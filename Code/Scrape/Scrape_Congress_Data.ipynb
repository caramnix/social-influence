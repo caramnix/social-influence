{
 "cells": [
  {
   "cell_type": "code",
   "execution_count": 1,
   "metadata": {},
   "outputs": [],
   "source": [
    "#written on 1.21.21 by @caramnix \n",
    "#modified/updated on 2.26.22 \n",
    "#!pip install xmltodict\n",
    "import os, json\n",
    "import xmltodict\n",
    "import numpy as np\n",
    "import pandas as pd"
   ]
  },
  {
   "cell_type": "code",
   "execution_count": 2,
   "metadata": {},
   "outputs": [],
   "source": [
    "#uses data from https://www.govinfo.gov/bulkdata/BILLSTATUS/116/hr\n",
    "#user guide for data: https://github.com/usgpo/bill-status/blob/master/BILLSTATUS-XML_User_User-Guide.md\n",
    "os.chdir(\"/Users/caranix/OneDrive - The Ohio State University/Social Influence/Data/Congress\")"
   ]
  },
  {
   "cell_type": "code",
   "execution_count": 3,
   "metadata": {},
   "outputs": [
    {
     "data": {
      "text/plain": [
       "'/Users/caranix/Library/CloudStorage/OneDrive-TheOhioStateUniversity/Social Influence/Data/Congress'"
      ]
     },
     "execution_count": 3,
     "metadata": {},
     "output_type": "execute_result"
    }
   ],
   "source": [
    "pwd()"
   ]
  },
  {
   "cell_type": "code",
   "execution_count": 6,
   "metadata": {},
   "outputs": [],
   "source": [
    "wd= \"/Users/caranix/OneDrive - The Ohio State University/Social Influence/Data/Congress\""
   ]
  },
  {
   "cell_type": "code",
   "execution_count": 7,
   "metadata": {},
   "outputs": [],
   "source": [
    "#create directories for storing .jsons\n",
    "\n",
    "#116 House\n",
    "#os.mkdir(\"/Users/caranix/OneDrive - The Ohio State University/Social Influence/Data/Congress/116/House/BILLSTATUS-116-hr-JSON/\")\n",
    "#os.mkdir(\"/Users/caranix/OneDrive - The Ohio State University/Social Influence/Data/Congress/116/House/BILLSTATUS-116-hres-JSON/\")\n",
    "\n",
    "#115 House\n",
    "#os.mkdir(\"/Users/caranix/OneDrive - The Ohio State University/Social Influence/Data/Congress/115/House/BILLSTATUS-115-hres-JSON/\")\n",
    "#os.mkdir(\"/Users/caranix/OneDrive - The Ohio State University/Social Influence/Data/Congress/115/House/BILLSTATUS-115-hr-JSON/\")\n",
    "\n",
    "#116 Senate\n",
    "#os.mkdir(\"/Users/caranix/OneDrive - The Ohio State University/Social Influence/Data/Congress/116/Senate/BILLSTATUS-116-s-JSON/\")\n",
    "#os.mkdir(\"/Users/caranix/OneDrive - The Ohio State University/Social Influence/Data/Congress/116/Senate/BILLSTATUS-116-sres-JSON/\")\n",
    "\n",
    "#115 Senate\n",
    "os.mkdir(\"/Users/caranix/OneDrive - The Ohio State University/Social Influence/Data/Congress/115/Senate/BILLSTATUS-115-s-JSON/\")\n",
    "os.mkdir(\"/Users/caranix/OneDrive - The Ohio State University/Social Influence/Data/Congress/115/Senate/BILLSTATUS-115-sres-JSON/\")\n",
    "        \n",
    "         "
   ]
  },
  {
   "cell_type": "code",
   "execution_count": 17,
   "metadata": {},
   "outputs": [],
   "source": [
    "#code to convert XML to JSON because I'm picky about my data types mkay \n",
    "\n",
    "#s, and sres \n",
    "#note: changed paths accordingly\n",
    "path = wd+ \"/115/Senate/BILLSTATUS-115-sres\"\n",
    "jsonp = wd+ \"/115/Senate/BILLSTATUS-115-sres-JSON/\"\n",
    "\n",
    "for filename in os.listdir(path):\n",
    "    if not filename.endswith('.xml'): continue\n",
    "    fullname = os.path.join(path, filename)\n",
    "    with open(fullname, 'r') as f:\n",
    "        xmlString = f.read()\n",
    "        json_output =  jsonp+ filename[:-4] +\".json\"\n",
    "        #print(json_output)\n",
    "    with open(json_output, 'w') as f:\n",
    "        json.dump(xmltodict.parse(xmlString), f, indent=4)"
   ]
  },
  {
   "cell_type": "code",
   "execution_count": 10,
   "metadata": {},
   "outputs": [],
   "source": [
    "#code to reformat data into a managable format, pulling only the information needed from the .json\n",
    "#the info being, for each bill, it's sponsor (and their last name, unique id and party), cosponsors(and their last name(s), unique id(s) and party)\n",
    "#Also the type of bill and the bill number (which is saved as the key, but as a precaution als including it in the dict)\n",
    "\n",
    "def get_dict_for_bill(bill, id_numbers):\n",
    "    try: \n",
    "        sponser_full_name= bill['billStatus']['bill']['sponsors']['item']['fullName']\n",
    "        sponser_last_name= bill['billStatus']['bill']['sponsors']['item']['lastName']\n",
    "        sponser_id= bill['billStatus']['bill']['sponsors']['item']['identifiers'][\"lisID\"]\n",
    "        id_numbers.append(int(sponser_id))\n",
    "        sponser_party= bill['billStatus']['bill']['sponsors']['item']['party']\n",
    "        if bill['billStatus']['bill']['policyArea'] is None: #some bills do not have a type. \n",
    "            type_bill = \"not given\"\n",
    "        else: \n",
    "            type_bill = bill['billStatus']['bill']['policyArea']['name']\n",
    "        bill_id = bill['billStatus']['bill']['billNumber']\n",
    "        cospon_dict= {}\n",
    "        if bill['billStatus']['bill']['cosponsors'] is None: #some bills have no cosponsors!\n",
    "            cospon_dict ={} \n",
    "        else: \n",
    "            n_cospon= len(bill['billStatus']['bill']['cosponsors']['item'])\n",
    "\n",
    "            for i in range(0,n_cospon): \n",
    "                try:\n",
    "                    cospon_fname = bill['billStatus']['bill']['cosponsors']['item'][i]['fullName']\n",
    "                    cospon_lname = bill['billStatus']['bill']['cosponsors']['item'][i]['lastName']\n",
    "                    cospon_party = bill['billStatus']['bill']['cosponsors']['item'][i]['party']\n",
    "                    cospon_id = bill['billStatus']['bill']['cosponsors']['item'][i]['identifiers']['lisID']\n",
    "                    id_numbers.append(int(cospon_id)) #inorder to have all the id numbers of congresspeople\n",
    "                    cospon_dict[i]= {\"LAST NAME\" : cospon_lname, \"ID\" : cospon_id, \"PARTY\" : cospon_party, \"FULL NAME\": cospon_fname}\n",
    "                except KeyError: #see note below \n",
    "                    cospon_fname = bill['billStatus']['bill']['cosponsors']['item']['fullName']\n",
    "                    cospon_lname = bill['billStatus']['bill']['cosponsors']['item']['lastName']\n",
    "                    cospon_party = bill['billStatus']['bill']['cosponsors']['item']['party']\n",
    "                    cospon_id = bill['billStatus']['bill']['cosponsors']['item']['identifiers']['lisID']\n",
    "                    id_numbers.append(int(cospon_id))\n",
    "                    cospon_dict[0]= {\"LAST NAME\" : cospon_lname, \"ID\" : cospon_id, \"PARTY\" : cospon_party,\"FULL NAME\": cospon_fname}\n",
    "\n",
    "        #returning a dictionary of all info collected from bill\n",
    "        return({\"sponser\": {\"LAST NAME\" : sponser_last_name, \"ID\" : sponser_id, \"PARTY\" : sponser_party, \"FULL NAME\" : sponser_full_name}, \n",
    "                        \"cosponsers\": cospon_dict, \n",
    "                        \"type\" : type_bill, \n",
    "                        \"bill number\": bill_id,\n",
    "                        \"action code\": check_action(bill)} #new addition \n",
    "              )\n",
    "\n",
    "    except TypeError: \n",
    "        print(bill['billStatus']['bill']['billNumber'])\n",
    "        pass\n",
    "        \n",
    "\n",
    "\n",
    "\n",
    "#note: okay, so the data is formatted weirdly, in that if there is only one cosponsor, \n",
    "#instead of sticking with how they've been formatting it they instead don't tie 0:cosponsor,\n",
    "#and instead tie item: cosponsor, this catches that error and fixes it. \n",
    "\n"
   ]
  },
  {
   "cell_type": "code",
   "execution_count": 11,
   "metadata": {},
   "outputs": [],
   "source": [
    "def check_action(bill): \n",
    "    num_actions= len(bill['billStatus']['bill']['actions']['item'])\n",
    "    action_code_fin =\"00000\"\n",
    "    for i in range(0, num_actions): \n",
    "        try: \n",
    "            action_code= bill['billStatus']['bill']['actions']['item'][i][\"actionCode\"]\n",
    "        except KeyError: \n",
    "            action_code= \"00000\"\n",
    "            pass \n",
    "        if (action_code== \"8000\" or action_code== \"17000\" or action_code== \"36000\"): \n",
    "            action_code_fin= action_code\n",
    "    return(action_code_fin)"
   ]
  },
  {
   "cell_type": "code",
   "execution_count": 202,
   "metadata": {},
   "outputs": [],
   "source": [
    "#make dict for HR-116 \n",
    "os.chdir(\"/Users/caranix/OneDrive - The Ohio State University/Social Influence/Data/Congress/116/House\")"
   ]
  },
  {
   "cell_type": "code",
   "execution_count": 203,
   "metadata": {},
   "outputs": [],
   "source": [
    "Bill_Dict={} \n",
    "id_nums = [] \n",
    "bill_nums = []\n",
    "\n",
    "path = \"BILLSTATUS-116-hr-JSON\"\n",
    "for filename in os.listdir(path): #go through the folder at the path given and for all the jsons, get the cleaned bill dictionaru\n",
    "    if not filename.endswith('.json'): continue\n",
    "    fullname = os.path.join(path, filename)\n",
    "    with open(fullname, 'r') as read_file:\n",
    "        bill_of_interest = json.load(read_file)\n",
    "        bill_id = bill_of_interest['billStatus']['bill']['billNumber']\n",
    "        bill_nums.append(bill_id) #also store bill ids \n",
    "        Bill_Dict[bill_id]= get_dict_for_bill(bill_of_interest,id_nums)\n"
   ]
  },
  {
   "cell_type": "code",
   "execution_count": 204,
   "metadata": {},
   "outputs": [
    {
     "data": {
      "text/plain": [
       "9062"
      ]
     },
     "execution_count": 204,
     "metadata": {},
     "output_type": "execute_result"
    }
   ],
   "source": [
    "len(Bill_Dict) #sanity check, we passed in 9062 bills and we got that many keys in our resulting dict! \n"
   ]
  },
  {
   "cell_type": "code",
   "execution_count": 86,
   "metadata": {},
   "outputs": [],
   "source": [
    "#save our Bill Dictionary as a json!\n",
    "#with open('BILLSTATUS-116-hr-JSON-dict.json', 'w') as fp:\n",
    "#    json.dump(Bill_Dict, fp)"
   ]
  },
  {
   "cell_type": "code",
   "execution_count": 32,
   "metadata": {},
   "outputs": [],
   "source": [
    "#now can read in easily! HR 116 Data \n",
    "#os.chdir(\"/Users/caranix/OneDrive - The Ohio State University/Social Influence/Data/Congress/116/House\")\n",
    "#f = open('BILLSTATUS-116-hr-JSON-dict.json')\n",
    "#Bill_Dict = json.load(f)"
   ]
  },
  {
   "cell_type": "code",
   "execution_count": 46,
   "metadata": {},
   "outputs": [],
   "source": [
    "#len(Bill_Dict)"
   ]
  },
  {
   "cell_type": "code",
   "execution_count": null,
   "metadata": {},
   "outputs": [],
   "source": []
  },
  {
   "cell_type": "code",
   "execution_count": null,
   "metadata": {},
   "outputs": [],
   "source": [
    "#make dict for HRES-116 "
   ]
  },
  {
   "cell_type": "code",
   "execution_count": 205,
   "metadata": {},
   "outputs": [
    {
     "name": "stdout",
     "output_type": "stream",
     "text": [
      "765\n"
     ]
    }
   ],
   "source": [
    "os.chdir(\"/Users/caranix/OneDrive - The Ohio State University/Social Influence/Data/Congress/116/House\")\n",
    "\n",
    "Bill_Dict2={} \n",
    "id_nums2 = [] \n",
    "bill_nums2 = []\n",
    "\n",
    "path = \"BILLSTATUS-116-hres-JSON\"\n",
    "for filename in os.listdir(path): #go through the folder at the path given and for all the jsons, get the cleaned bill dictionaru\n",
    "    if not filename.endswith('.json'): continue\n",
    "    fullname = os.path.join(path, filename)\n",
    "    with open(fullname, 'r') as read_file:\n",
    "        bill_of_interest = json.load(read_file)\n",
    "        bill_id = bill_of_interest['billStatus']['bill']['billNumber']\n",
    "        bill_nums2.append(bill_id) #also store bill ids \n",
    "        Bill_Dict2[bill_id+\"HRES\"]= get_dict_for_HRESbill(bill_of_interest,id_nums2)"
   ]
  },
  {
   "cell_type": "code",
   "execution_count": 21,
   "metadata": {},
   "outputs": [],
   "source": [
    "#COMBINE THEM\n",
    "def Merge(dict1, dict2):\n",
    "    return(dict2.update(dict1))"
   ]
  },
  {
   "cell_type": "code",
   "execution_count": 207,
   "metadata": {},
   "outputs": [],
   "source": [
    "Merge(Bill_Dict2,Bill_Dict) #merge all into Bill_Dict!"
   ]
  },
  {
   "cell_type": "code",
   "execution_count": 208,
   "metadata": {},
   "outputs": [
    {
     "data": {
      "text/plain": [
       "10335"
      ]
     },
     "execution_count": 208,
     "metadata": {},
     "output_type": "execute_result"
    }
   ],
   "source": [
    "len(Bill_Dict)"
   ]
  },
  {
   "cell_type": "code",
   "execution_count": null,
   "metadata": {},
   "outputs": [],
   "source": [
    "#with open('BILLSTATUS-116-hr-and-hres-JSON-dict.json', 'w') as fp:\n",
    "#    json.dump(Bill_Dict, fp)"
   ]
  },
  {
   "cell_type": "code",
   "execution_count": 43,
   "metadata": {},
   "outputs": [],
   "source": [
    "#os.chdir(\"/Users/caranix/OneDrive - The Ohio State University/Social Influence/Data/Congress/116/House\")\n",
    "#f = open('BILLSTATUS-116-hr-and-hres-JSON-dict.json')\n",
    "#Bill_Dict = json.load(f)"
   ]
  },
  {
   "cell_type": "code",
   "execution_count": null,
   "metadata": {},
   "outputs": [],
   "source": []
  },
  {
   "cell_type": "code",
   "execution_count": 210,
   "metadata": {},
   "outputs": [],
   "source": [
    "master_id_nums= id_nums + id_nums2\n",
    "len(master_id_nums)\n",
    "u_id_nums=np.unique(master_id_nums)"
   ]
  },
  {
   "cell_type": "code",
   "execution_count": 70,
   "metadata": {},
   "outputs": [],
   "source": [
    "u_id_nums=np.unique(master_id_nums)"
   ]
  },
  {
   "cell_type": "code",
   "execution_count": 71,
   "metadata": {},
   "outputs": [
    {
     "data": {
      "text/plain": [
       "448"
      ]
     },
     "execution_count": 71,
     "metadata": {},
     "output_type": "execute_result"
    }
   ],
   "source": [
    "len(u_id_nums) #448 - 435 + people getting replaced "
   ]
  },
  {
   "cell_type": "code",
   "execution_count": 72,
   "metadata": {},
   "outputs": [
    {
     "data": {
      "text/plain": [
       "10335"
      ]
     },
     "execution_count": 72,
     "metadata": {},
     "output_type": "execute_result"
    }
   ],
   "source": [
    "len(Bill_Dict)"
   ]
  },
  {
   "cell_type": "code",
   "execution_count": 211,
   "metadata": {},
   "outputs": [],
   "source": [
    "Bill_Dict.pop('765HRES') #HAD TO CUT- problematic"
   ]
  },
  {
   "cell_type": "code",
   "execution_count": 212,
   "metadata": {},
   "outputs": [],
   "source": [
    "#count number cosponsors/sponsors\n",
    "columns= [\"Number of Bills Cosponsored\", \"Number of Bills Sponsered\", \"ID\"]\n",
    "df_ = pd.DataFrame(index=u_id_nums, columns= columns)\n",
    "df_ = df_.fillna(0)\n",
    "\n",
    "for key in Bill_Dict: \n",
    "    sponser_id= Bill_Dict[str(key)]['sponser']['ID']\n",
    "    df_.loc[int(sponser_id)][\"ID\"] = sponser_id\n",
    "    df_.loc[int(sponser_id)][\"Number of Bills Sponsered\"] += 1\n",
    "    num_cospo= len(Bill_Dict[str(key)]['cosponsers'])\n",
    "    for i in range(0,num_cospo): \n",
    "        cospo_id= Bill_Dict[str(key)]['cosponsers'][i][\"ID\"]\n",
    "        df_.loc[int(cospo_id)][\"Number of Bills Cosponsored\"] += 1\n",
    "   "
   ]
  },
  {
   "cell_type": "code",
   "execution_count": 213,
   "metadata": {},
   "outputs": [
    {
     "data": {
      "text/html": [
       "<div>\n",
       "<style scoped>\n",
       "    .dataframe tbody tr th:only-of-type {\n",
       "        vertical-align: middle;\n",
       "    }\n",
       "\n",
       "    .dataframe tbody tr th {\n",
       "        vertical-align: top;\n",
       "    }\n",
       "\n",
       "    .dataframe thead th {\n",
       "        text-align: right;\n",
       "    }\n",
       "</style>\n",
       "<table border=\"1\" class=\"dataframe\">\n",
       "  <thead>\n",
       "    <tr style=\"text-align: right;\">\n",
       "      <th></th>\n",
       "      <th>Number of Bills Cosponsored</th>\n",
       "      <th>Number of Bills Sponsered</th>\n",
       "      <th>ID</th>\n",
       "    </tr>\n",
       "  </thead>\n",
       "  <tbody>\n",
       "    <tr>\n",
       "      <th>798</th>\n",
       "      <td>51</td>\n",
       "      <td>0</td>\n",
       "      <td>0</td>\n",
       "    </tr>\n",
       "    <tr>\n",
       "      <th>2053</th>\n",
       "      <td>9</td>\n",
       "      <td>0</td>\n",
       "      <td>0</td>\n",
       "    </tr>\n",
       "    <tr>\n",
       "      <th>2479</th>\n",
       "      <td>35</td>\n",
       "      <td>0</td>\n",
       "      <td>0</td>\n",
       "    </tr>\n",
       "  </tbody>\n",
       "</table>\n",
       "</div>"
      ],
      "text/plain": [
       "      Number of Bills Cosponsored  Number of Bills Sponsered  ID\n",
       "798                            51                          0   0\n",
       "2053                            9                          0   0\n",
       "2479                           35                          0   0"
      ]
     },
     "execution_count": 213,
     "metadata": {},
     "output_type": "execute_result"
    }
   ],
   "source": [
    "df_.loc[df_['ID'] == 0] #print out those w/ 0 sponsorships "
   ]
  },
  {
   "cell_type": "code",
   "execution_count": 214,
   "metadata": {},
   "outputs": [],
   "source": [
    "df_.loc[798][\"ID\"]= \"798\"\n",
    "df_.loc[2053][\"ID\"]= \"2053\"\n",
    "df_.loc[2479][\"ID\"]= \"2479\""
   ]
  },
  {
   "cell_type": "code",
   "execution_count": null,
   "metadata": {},
   "outputs": [],
   "source": [
    "#HELPFUL EXAMPLE\n",
    "adj_test = pd.DataFrame(index=[\"1\", \"2\", \"3\"], columns= [\"1\", \"2\", \"3\"])\n",
    "adj_test = adj_test.fillna(0)\n",
    "adj_test.loc[\"1\"][\"3\"] += 1 # 1 cospoed 3\n",
    "adj_test.loc[\"2\"][\"3\"] += 1 # 2 cospoed 3\n",
    "print(adj_test)\n",
    "print(adj_test.sum(axis=0)) #3 was cosponsored 2 times \n",
    "print(adj_test.sum(axis=1)) #1 cosponsored one time, #2 cosponsoed one time "
   ]
  },
  {
   "cell_type": "code",
   "execution_count": 215,
   "metadata": {},
   "outputs": [],
   "source": [
    "#FOWLER VERSION OF COSPONSORSHIP \n",
    "#attach cosponsors to sponsors in directed fashion \n",
    "adjf_ = pd.DataFrame(index=u_id_nums, columns= u_id_nums)\n",
    "adjf_ = adjf_.fillna(0)\n",
    "for key in Bill_Dict: \n",
    "    sponser_id= Bill_Dict[str(key)]['sponser']['ID']\n",
    "    num_cospo= len(Bill_Dict[str(key)]['cosponsers'])\n",
    "    for i in range(0,num_cospo): \n",
    "        cospo_id= Bill_Dict[str(key)]['cosponsers'][i][\"ID\"]\n",
    "        adjf_.loc[int(cospo_id)][int(sponser_id)] += 1"
   ]
  },
  {
   "cell_type": "code",
   "execution_count": 216,
   "metadata": {},
   "outputs": [
    {
     "data": {
      "text/plain": [
       "'/Users/caranix/OneDrive - The Ohio State University/Social Influence/Data/Congress/116/House'"
      ]
     },
     "execution_count": 216,
     "metadata": {},
     "output_type": "execute_result"
    }
   ],
   "source": [
    "pwd()"
   ]
  },
  {
   "cell_type": "code",
   "execution_count": 217,
   "metadata": {},
   "outputs": [],
   "source": [
    "adjf_.to_excel(\"adj_matrix_116_House_Fowler.xlsx\")  "
   ]
  },
  {
   "cell_type": "code",
   "execution_count": 121,
   "metadata": {},
   "outputs": [
    {
     "data": {
      "text/plain": [
       "91        74\n",
       "99      1666\n",
       "165      113\n",
       "186      218\n",
       "208      595\n",
       "        ... \n",
       "2473      48\n",
       "2479       0\n",
       "2480       8\n",
       "2481       1\n",
       "2483       2\n",
       "Length: 448, dtype: int64"
      ]
     },
     "execution_count": 121,
     "metadata": {},
     "output_type": "execute_result"
    }
   ],
   "source": [
    "adjf_.sum(axis=0) # number of times they were cosponsored by others "
   ]
  },
  {
   "cell_type": "code",
   "execution_count": 122,
   "metadata": {},
   "outputs": [
    {
     "data": {
      "text/plain": [
       "91      465\n",
       "99      906\n",
       "165     205\n",
       "186     303\n",
       "208     140\n",
       "       ... \n",
       "2473    123\n",
       "2479     35\n",
       "2480     87\n",
       "2481     29\n",
       "2483     12\n",
       "Length: 448, dtype: int64"
      ]
     },
     "execution_count": 122,
     "metadata": {},
     "output_type": "execute_result"
    }
   ],
   "source": [
    "adjf_.sum(axis=1) # number of times they cosponsored legislation"
   ]
  },
  {
   "cell_type": "code",
   "execution_count": 80,
   "metadata": {},
   "outputs": [],
   "source": [
    "#make helpful data frame from dict that can be joined \n",
    "#congressperson info\n",
    "data1= {}\n",
    "for key in Bill_Dict: \n",
    "    sponser_id= Bill_Dict[str(key)]['sponser']['ID']   \n",
    "    if sponser_id not in data1.keys(): \n",
    "        data1[int(sponser_id)]= [Bill_Dict[str(key)]['sponser']['LAST NAME'].upper(), Bill_Dict[str(key)]['sponser']['PARTY'], Bill_Dict[str(key)]['sponser']['FULL NAME'], sponser_id]\n",
    "    num_cospo= len(Bill_Dict[str(key)]['cosponsers'])\n",
    "    for i in range(0,num_cospo): \n",
    "        cospo_id= Bill_Dict[str(key)]['cosponsers'][i][\"ID\"]\n",
    "        if cospo_id not in data1.keys():\n",
    "            data1[int(cospo_id)]= [Bill_Dict[str(key)]['cosponsers'][i]['LAST NAME'].upper(), Bill_Dict[str(key)]['cosponsers'][i]['PARTY'],Bill_Dict[str(key)]['cosponsers'][i]['FULL NAME'], cospo_id]\n",
    "datf= pd.DataFrame.from_dict(data1, orient='index')\n",
    "datf.columns= ['Last Name', 'Party', 'Full Name', 'ID'] \n",
    "datf[\"ID\"]= pd.to_numeric(datf[\"ID\"])\n",
    "datf.merge(df_, left_on='ID', right_on='ID') "
   ]
  },
  {
   "cell_type": "code",
   "execution_count": 81,
   "metadata": {},
   "outputs": [],
   "source": [
    "datf= pd.DataFrame.from_dict(data1, orient='index')\n",
    "datf.columns= ['Last Name', 'Party', 'Full Name', 'ID'] "
   ]
  },
  {
   "cell_type": "code",
   "execution_count": 92,
   "metadata": {},
   "outputs": [],
   "source": [
    "datf[\"ID\"]= pd.to_numeric(datf[\"ID\"])"
   ]
  },
  {
   "cell_type": "code",
   "execution_count": 126,
   "metadata": {},
   "outputs": [
    {
     "data": {
      "text/html": [
       "<div>\n",
       "<style scoped>\n",
       "    .dataframe tbody tr th:only-of-type {\n",
       "        vertical-align: middle;\n",
       "    }\n",
       "\n",
       "    .dataframe tbody tr th {\n",
       "        vertical-align: top;\n",
       "    }\n",
       "\n",
       "    .dataframe thead th {\n",
       "        text-align: right;\n",
       "    }\n",
       "</style>\n",
       "<table border=\"1\" class=\"dataframe\">\n",
       "  <thead>\n",
       "    <tr style=\"text-align: right;\">\n",
       "      <th></th>\n",
       "      <th>Last Name</th>\n",
       "      <th>Party</th>\n",
       "      <th>Full Name</th>\n",
       "      <th>ID</th>\n",
       "      <th>Number of Bills Cosponsored</th>\n",
       "      <th>Number of Bills Sponsered</th>\n",
       "    </tr>\n",
       "  </thead>\n",
       "  <tbody>\n",
       "    <tr>\n",
       "      <th>0</th>\n",
       "      <td>ROUDA</td>\n",
       "      <td>D</td>\n",
       "      <td>Rep. Rouda, Harley [D-CA-48]</td>\n",
       "      <td>2382</td>\n",
       "      <td>632</td>\n",
       "      <td>26</td>\n",
       "    </tr>\n",
       "    <tr>\n",
       "      <th>1</th>\n",
       "      <td>GOLDEN</td>\n",
       "      <td>D</td>\n",
       "      <td>Rep. Golden, Jared F. [D-ME-2]</td>\n",
       "      <td>2469</td>\n",
       "      <td>266</td>\n",
       "      <td>24</td>\n",
       "    </tr>\n",
       "    <tr>\n",
       "      <th>2</th>\n",
       "      <td>ROSE</td>\n",
       "      <td>D</td>\n",
       "      <td>Rep. Rose, Max [D-NY-11]</td>\n",
       "      <td>2426</td>\n",
       "      <td>495</td>\n",
       "      <td>31</td>\n",
       "    </tr>\n",
       "    <tr>\n",
       "      <th>3</th>\n",
       "      <td>ADAMS</td>\n",
       "      <td>D</td>\n",
       "      <td>Rep. Adams, Alma S. [D-NC-12]</td>\n",
       "      <td>2201</td>\n",
       "      <td>407</td>\n",
       "      <td>34</td>\n",
       "    </tr>\n",
       "    <tr>\n",
       "      <th>4</th>\n",
       "      <td>WALKER</td>\n",
       "      <td>R</td>\n",
       "      <td>Rep. Walker, Mark [R-NC-6]</td>\n",
       "      <td>2255</td>\n",
       "      <td>176</td>\n",
       "      <td>17</td>\n",
       "    </tr>\n",
       "    <tr>\n",
       "      <th>...</th>\n",
       "      <td>...</td>\n",
       "      <td>...</td>\n",
       "      <td>...</td>\n",
       "      <td>...</td>\n",
       "      <td>...</td>\n",
       "      <td>...</td>\n",
       "    </tr>\n",
       "    <tr>\n",
       "      <th>443</th>\n",
       "      <td>HALL</td>\n",
       "      <td>D</td>\n",
       "      <td>Rep. Hall, Kwanza [D-GA-5]</td>\n",
       "      <td>2483</td>\n",
       "      <td>12</td>\n",
       "      <td>5</td>\n",
       "    </tr>\n",
       "    <tr>\n",
       "      <th>444</th>\n",
       "      <td>HOLLINGSWORTH</td>\n",
       "      <td>R</td>\n",
       "      <td>Rep. Hollingsworth, Trey [R-IN-9]</td>\n",
       "      <td>2327</td>\n",
       "      <td>75</td>\n",
       "      <td>8</td>\n",
       "    </tr>\n",
       "    <tr>\n",
       "      <th>445</th>\n",
       "      <td>MARINO</td>\n",
       "      <td>R</td>\n",
       "      <td>Rep. Marino, Tom [R-PA-12]</td>\n",
       "      <td>2053</td>\n",
       "      <td>9</td>\n",
       "      <td>0</td>\n",
       "    </tr>\n",
       "    <tr>\n",
       "      <th>446</th>\n",
       "      <td>HOYER</td>\n",
       "      <td>D</td>\n",
       "      <td>Rep. Hoyer, Steny H. [D-MD-5]</td>\n",
       "      <td>566</td>\n",
       "      <td>59</td>\n",
       "      <td>18</td>\n",
       "    </tr>\n",
       "    <tr>\n",
       "      <th>447</th>\n",
       "      <td>PELOSI</td>\n",
       "      <td>D</td>\n",
       "      <td>Rep. Pelosi, Nancy [D-CA-12]</td>\n",
       "      <td>905</td>\n",
       "      <td>22</td>\n",
       "      <td>1</td>\n",
       "    </tr>\n",
       "  </tbody>\n",
       "</table>\n",
       "<p>448 rows × 6 columns</p>\n",
       "</div>"
      ],
      "text/plain": [
       "         Last Name Party                          Full Name    ID  \\\n",
       "0            ROUDA     D       Rep. Rouda, Harley [D-CA-48]  2382   \n",
       "1           GOLDEN     D     Rep. Golden, Jared F. [D-ME-2]  2469   \n",
       "2             ROSE     D           Rep. Rose, Max [D-NY-11]  2426   \n",
       "3            ADAMS     D      Rep. Adams, Alma S. [D-NC-12]  2201   \n",
       "4           WALKER     R         Rep. Walker, Mark [R-NC-6]  2255   \n",
       "..             ...   ...                                ...   ...   \n",
       "443           HALL     D         Rep. Hall, Kwanza [D-GA-5]  2483   \n",
       "444  HOLLINGSWORTH     R  Rep. Hollingsworth, Trey [R-IN-9]  2327   \n",
       "445         MARINO     R         Rep. Marino, Tom [R-PA-12]  2053   \n",
       "446          HOYER     D      Rep. Hoyer, Steny H. [D-MD-5]   566   \n",
       "447         PELOSI     D       Rep. Pelosi, Nancy [D-CA-12]   905   \n",
       "\n",
       "     Number of Bills Cosponsored  Number of Bills Sponsered  \n",
       "0                            632                         26  \n",
       "1                            266                         24  \n",
       "2                            495                         31  \n",
       "3                            407                         34  \n",
       "4                            176                         17  \n",
       "..                           ...                        ...  \n",
       "443                           12                          5  \n",
       "444                           75                          8  \n",
       "445                            9                          0  \n",
       "446                           59                         18  \n",
       "447                           22                          1  \n",
       "\n",
       "[448 rows x 6 columns]"
      ]
     },
     "execution_count": 126,
     "metadata": {},
     "output_type": "execute_result"
    }
   ],
   "source": [
    "datf.merge(df_, left_on='ID', right_on='ID') "
   ]
  },
  {
   "cell_type": "code",
   "execution_count": 127,
   "metadata": {},
   "outputs": [],
   "source": [
    "datf.to_csv(\"leginfo_116H.csv\") #save"
   ]
  },
  {
   "cell_type": "code",
   "execution_count": null,
   "metadata": {},
   "outputs": [],
   "source": []
  },
  {
   "cell_type": "code",
   "execution_count": 4,
   "metadata": {},
   "outputs": [],
   "source": [
    "#make dict for S-116 \n",
    "os.chdir(\"/Users/caranix/OneDrive - The Ohio State University/Social Influence/Data/Congress/116/Senate\")"
   ]
  },
  {
   "cell_type": "code",
   "execution_count": 129,
   "metadata": {},
   "outputs": [],
   "source": [
    "#make dict for S-116 \n",
    "os.chdir(\"/Users/caranix/OneDrive - The Ohio State University/Social Influence/Data/Congress/116/Senate\")\n",
    "\n",
    "Senate_Bill_Dict={} \n",
    "Senate_id_nums = [] \n",
    "Senate_bill_nums = []\n",
    "\n",
    "path = \"BILLSTATUS-116-s-JSON\"\n",
    "for filename in os.listdir(path): #go through the folder at the path given and for all the jsons, get the cleaned bill dictionaru\n",
    "    if not filename.endswith('.json'): continue\n",
    "    fullname = os.path.join(path, filename)\n",
    "    with open(fullname, 'r') as read_file:\n",
    "        bill_of_interest = json.load(read_file)\n",
    "        bill_id = bill_of_interest['billStatus']['bill']['billNumber']\n",
    "        Senate_bill_nums.append(bill_id) #also store bill ids \n",
    "        Senate_Bill_Dict[bill_id]= get_dict_for_bill(bill_of_interest,Senate_id_nums)\n"
   ]
  },
  {
   "cell_type": "code",
   "execution_count": 130,
   "metadata": {},
   "outputs": [
    {
     "data": {
      "text/plain": [
       "5086"
      ]
     },
     "execution_count": 130,
     "metadata": {},
     "output_type": "execute_result"
    }
   ],
   "source": [
    "len(Senate_Bill_Dict)"
   ]
  },
  {
   "cell_type": "code",
   "execution_count": 132,
   "metadata": {},
   "outputs": [],
   "source": [
    "#save our Bill Dictionary as a json!\n",
    "with open('BILLSTATUS-116-s-JSON-dict.json', 'w') as fp:\n",
    "    json.dump(Senate_Bill_Dict, fp)"
   ]
  },
  {
   "cell_type": "code",
   "execution_count": null,
   "metadata": {},
   "outputs": [],
   "source": [
    "#make dict for SRES-116"
   ]
  },
  {
   "cell_type": "code",
   "execution_count": 133,
   "metadata": {},
   "outputs": [],
   "source": [
    "Senate_Bill_Dict2={} \n",
    "Senate_id_nums2 = [] \n",
    "Senate_bill_nums2 = []\n",
    "\n",
    "path = \"BILLSTATUS-116-sres-JSON\"\n",
    "for filename in os.listdir(path): #go through the folder at the path given and for all the jsons, get the cleaned bill dictionaru\n",
    "    if not filename.endswith('.json'): continue\n",
    "    fullname = os.path.join(path, filename)\n",
    "    with open(fullname, 'r') as read_file:\n",
    "        bill_of_interest = json.load(read_file)\n",
    "        bill_id = bill_of_interest['billStatus']['bill']['billNumber']\n",
    "        Senate_bill_nums2.append(bill_id) #also store bill ids \n",
    "        Senate_Bill_Dict2[bill_id+ 'SRES']= get_dict_for_bill(bill_of_interest,Senate_id_nums2)"
   ]
  },
  {
   "cell_type": "code",
   "execution_count": 134,
   "metadata": {},
   "outputs": [
    {
     "data": {
      "text/plain": [
       "808"
      ]
     },
     "execution_count": 134,
     "metadata": {},
     "output_type": "execute_result"
    }
   ],
   "source": [
    "len(Senate_Bill_Dict2)"
   ]
  },
  {
   "cell_type": "code",
   "execution_count": 137,
   "metadata": {},
   "outputs": [],
   "source": [
    "with open('BILLSTATUS-116-sres-JSON-dict.json', 'w') as fp:\n",
    "    json.dump(Senate_Bill_Dict2, fp)"
   ]
  },
  {
   "cell_type": "code",
   "execution_count": 138,
   "metadata": {},
   "outputs": [],
   "source": [
    "Merge(Senate_Bill_Dict2,Senate_Bill_Dict) "
   ]
  },
  {
   "cell_type": "code",
   "execution_count": 139,
   "metadata": {},
   "outputs": [
    {
     "data": {
      "text/plain": [
       "5894"
      ]
     },
     "execution_count": 139,
     "metadata": {},
     "output_type": "execute_result"
    }
   ],
   "source": [
    "len(Senate_Bill_Dict)"
   ]
  },
  {
   "cell_type": "code",
   "execution_count": 140,
   "metadata": {},
   "outputs": [],
   "source": [
    "master_id_nums_senate= Senate_id_nums2 + Senate_id_nums\n",
    "u_id_nums_sen=np.unique(master_id_nums_senate)"
   ]
  },
  {
   "cell_type": "code",
   "execution_count": 142,
   "metadata": {},
   "outputs": [
    {
     "data": {
      "text/plain": [
       "102"
      ]
     },
     "execution_count": 142,
     "metadata": {},
     "output_type": "execute_result"
    }
   ],
   "source": [
    "len(u_id_nums_sen)"
   ]
  },
  {
   "cell_type": "code",
   "execution_count": 143,
   "metadata": {},
   "outputs": [],
   "source": [
    "#count number cosponsors/sponsors\n",
    "columns= [\"Number of Bills Cosponsored\", \"Number of Bills Sponsered\", \"ID\"]\n",
    "df_S = pd.DataFrame(index=u_id_nums_sen, columns= columns)\n",
    "df_S = df_S.fillna(0)\n",
    "\n",
    "for key in Senate_Bill_Dict: \n",
    "    sponser_id= Senate_Bill_Dict[str(key)]['sponser']['ID']\n",
    "    df_S.loc[int(sponser_id)][\"ID\"] = sponser_id\n",
    "    df_S.loc[int(sponser_id)][\"Number of Bills Sponsered\"] += 1\n",
    "    num_cospo= len(Senate_Bill_Dict[str(key)]['cosponsers'])\n",
    "    for i in range(0,num_cospo): \n",
    "        cospo_id= Senate_Bill_Dict[str(key)]['cosponsers'][i][\"ID\"]\n",
    "        df_S.loc[int(cospo_id)][\"Number of Bills Cosponsored\"] += 1\n",
    "   "
   ]
  },
  {
   "cell_type": "code",
   "execution_count": 148,
   "metadata": {},
   "outputs": [],
   "source": [
    "df_S.loc[2482][\"ID\"]= \"2482\""
   ]
  },
  {
   "cell_type": "code",
   "execution_count": 144,
   "metadata": {},
   "outputs": [],
   "source": [
    "#FOWLER VERSION OF COSPONSORSHIP \n",
    "#attach cosponsors to sponsors in directed fashion \n",
    "adjf_S = pd.DataFrame(index=u_id_nums_sen, columns= u_id_nums_sen)\n",
    "adjf_S = adjf_S.fillna(0)\n",
    "for key in Senate_Bill_Dict: \n",
    "    sponser_id= Senate_Bill_Dict[str(key)]['sponser']['ID']\n",
    "    num_cospo= len(Senate_Bill_Dict[str(key)]['cosponsers'])\n",
    "    for i in range(0,num_cospo): \n",
    "        cospo_id= Senate_Bill_Dict[str(key)]['cosponsers'][i][\"ID\"]\n",
    "        adjf_S.loc[int(cospo_id)][int(sponser_id)] += 1"
   ]
  },
  {
   "cell_type": "code",
   "execution_count": 149,
   "metadata": {},
   "outputs": [
    {
     "data": {
      "text/html": [
       "<div>\n",
       "<style scoped>\n",
       "    .dataframe tbody tr th:only-of-type {\n",
       "        vertical-align: middle;\n",
       "    }\n",
       "\n",
       "    .dataframe tbody tr th {\n",
       "        vertical-align: top;\n",
       "    }\n",
       "\n",
       "    .dataframe thead th {\n",
       "        text-align: right;\n",
       "    }\n",
       "</style>\n",
       "<table border=\"1\" class=\"dataframe\">\n",
       "  <thead>\n",
       "    <tr style=\"text-align: right;\">\n",
       "      <th></th>\n",
       "      <th>136</th>\n",
       "      <th>153</th>\n",
       "      <th>172</th>\n",
       "      <th>174</th>\n",
       "      <th>179</th>\n",
       "      <th>250</th>\n",
       "      <th>326</th>\n",
       "      <th>452</th>\n",
       "      <th>457</th>\n",
       "      <th>583</th>\n",
       "      <th>...</th>\n",
       "      <th>2339</th>\n",
       "      <th>2364</th>\n",
       "      <th>2365</th>\n",
       "      <th>2366</th>\n",
       "      <th>2462</th>\n",
       "      <th>2464</th>\n",
       "      <th>2466</th>\n",
       "      <th>2470</th>\n",
       "      <th>2474</th>\n",
       "      <th>2482</th>\n",
       "    </tr>\n",
       "  </thead>\n",
       "  <tbody>\n",
       "    <tr>\n",
       "      <th>136</th>\n",
       "      <td>0</td>\n",
       "      <td>4</td>\n",
       "      <td>2</td>\n",
       "      <td>20</td>\n",
       "      <td>4</td>\n",
       "      <td>3</td>\n",
       "      <td>31</td>\n",
       "      <td>5</td>\n",
       "      <td>9</td>\n",
       "      <td>4</td>\n",
       "      <td>...</td>\n",
       "      <td>2</td>\n",
       "      <td>4</td>\n",
       "      <td>9</td>\n",
       "      <td>0</td>\n",
       "      <td>2</td>\n",
       "      <td>0</td>\n",
       "      <td>0</td>\n",
       "      <td>1</td>\n",
       "      <td>0</td>\n",
       "      <td>0</td>\n",
       "    </tr>\n",
       "    <tr>\n",
       "      <th>153</th>\n",
       "      <td>3</td>\n",
       "      <td>0</td>\n",
       "      <td>0</td>\n",
       "      <td>1</td>\n",
       "      <td>1</td>\n",
       "      <td>1</td>\n",
       "      <td>1</td>\n",
       "      <td>9</td>\n",
       "      <td>1</td>\n",
       "      <td>4</td>\n",
       "      <td>...</td>\n",
       "      <td>0</td>\n",
       "      <td>1</td>\n",
       "      <td>0</td>\n",
       "      <td>0</td>\n",
       "      <td>2</td>\n",
       "      <td>0</td>\n",
       "      <td>0</td>\n",
       "      <td>0</td>\n",
       "      <td>0</td>\n",
       "      <td>0</td>\n",
       "    </tr>\n",
       "    <tr>\n",
       "      <th>172</th>\n",
       "      <td>7</td>\n",
       "      <td>2</td>\n",
       "      <td>0</td>\n",
       "      <td>11</td>\n",
       "      <td>3</td>\n",
       "      <td>2</td>\n",
       "      <td>8</td>\n",
       "      <td>5</td>\n",
       "      <td>2</td>\n",
       "      <td>1</td>\n",
       "      <td>...</td>\n",
       "      <td>2</td>\n",
       "      <td>1</td>\n",
       "      <td>1</td>\n",
       "      <td>1</td>\n",
       "      <td>1</td>\n",
       "      <td>0</td>\n",
       "      <td>0</td>\n",
       "      <td>0</td>\n",
       "      <td>0</td>\n",
       "      <td>0</td>\n",
       "    </tr>\n",
       "    <tr>\n",
       "      <th>174</th>\n",
       "      <td>13</td>\n",
       "      <td>5</td>\n",
       "      <td>4</td>\n",
       "      <td>0</td>\n",
       "      <td>6</td>\n",
       "      <td>5</td>\n",
       "      <td>19</td>\n",
       "      <td>7</td>\n",
       "      <td>2</td>\n",
       "      <td>3</td>\n",
       "      <td>...</td>\n",
       "      <td>2</td>\n",
       "      <td>2</td>\n",
       "      <td>6</td>\n",
       "      <td>1</td>\n",
       "      <td>0</td>\n",
       "      <td>1</td>\n",
       "      <td>0</td>\n",
       "      <td>0</td>\n",
       "      <td>0</td>\n",
       "      <td>0</td>\n",
       "    </tr>\n",
       "    <tr>\n",
       "      <th>179</th>\n",
       "      <td>8</td>\n",
       "      <td>2</td>\n",
       "      <td>2</td>\n",
       "      <td>12</td>\n",
       "      <td>0</td>\n",
       "      <td>1</td>\n",
       "      <td>10</td>\n",
       "      <td>6</td>\n",
       "      <td>5</td>\n",
       "      <td>2</td>\n",
       "      <td>...</td>\n",
       "      <td>3</td>\n",
       "      <td>1</td>\n",
       "      <td>5</td>\n",
       "      <td>0</td>\n",
       "      <td>0</td>\n",
       "      <td>0</td>\n",
       "      <td>0</td>\n",
       "      <td>0</td>\n",
       "      <td>0</td>\n",
       "      <td>0</td>\n",
       "    </tr>\n",
       "    <tr>\n",
       "      <th>...</th>\n",
       "      <td>...</td>\n",
       "      <td>...</td>\n",
       "      <td>...</td>\n",
       "      <td>...</td>\n",
       "      <td>...</td>\n",
       "      <td>...</td>\n",
       "      <td>...</td>\n",
       "      <td>...</td>\n",
       "      <td>...</td>\n",
       "      <td>...</td>\n",
       "      <td>...</td>\n",
       "      <td>...</td>\n",
       "      <td>...</td>\n",
       "      <td>...</td>\n",
       "      <td>...</td>\n",
       "      <td>...</td>\n",
       "      <td>...</td>\n",
       "      <td>...</td>\n",
       "      <td>...</td>\n",
       "      <td>...</td>\n",
       "      <td>...</td>\n",
       "    </tr>\n",
       "    <tr>\n",
       "      <th>2464</th>\n",
       "      <td>1</td>\n",
       "      <td>2</td>\n",
       "      <td>1</td>\n",
       "      <td>3</td>\n",
       "      <td>0</td>\n",
       "      <td>1</td>\n",
       "      <td>1</td>\n",
       "      <td>10</td>\n",
       "      <td>3</td>\n",
       "      <td>3</td>\n",
       "      <td>...</td>\n",
       "      <td>2</td>\n",
       "      <td>1</td>\n",
       "      <td>0</td>\n",
       "      <td>1</td>\n",
       "      <td>2</td>\n",
       "      <td>0</td>\n",
       "      <td>0</td>\n",
       "      <td>5</td>\n",
       "      <td>0</td>\n",
       "      <td>0</td>\n",
       "    </tr>\n",
       "    <tr>\n",
       "      <th>2466</th>\n",
       "      <td>0</td>\n",
       "      <td>1</td>\n",
       "      <td>0</td>\n",
       "      <td>3</td>\n",
       "      <td>0</td>\n",
       "      <td>1</td>\n",
       "      <td>3</td>\n",
       "      <td>7</td>\n",
       "      <td>3</td>\n",
       "      <td>1</td>\n",
       "      <td>...</td>\n",
       "      <td>3</td>\n",
       "      <td>0</td>\n",
       "      <td>0</td>\n",
       "      <td>0</td>\n",
       "      <td>0</td>\n",
       "      <td>1</td>\n",
       "      <td>0</td>\n",
       "      <td>0</td>\n",
       "      <td>0</td>\n",
       "      <td>0</td>\n",
       "    </tr>\n",
       "    <tr>\n",
       "      <th>2470</th>\n",
       "      <td>2</td>\n",
       "      <td>1</td>\n",
       "      <td>2</td>\n",
       "      <td>5</td>\n",
       "      <td>1</td>\n",
       "      <td>1</td>\n",
       "      <td>2</td>\n",
       "      <td>11</td>\n",
       "      <td>5</td>\n",
       "      <td>3</td>\n",
       "      <td>...</td>\n",
       "      <td>5</td>\n",
       "      <td>2</td>\n",
       "      <td>1</td>\n",
       "      <td>2</td>\n",
       "      <td>9</td>\n",
       "      <td>8</td>\n",
       "      <td>0</td>\n",
       "      <td>0</td>\n",
       "      <td>2</td>\n",
       "      <td>0</td>\n",
       "    </tr>\n",
       "    <tr>\n",
       "      <th>2474</th>\n",
       "      <td>0</td>\n",
       "      <td>0</td>\n",
       "      <td>0</td>\n",
       "      <td>2</td>\n",
       "      <td>0</td>\n",
       "      <td>1</td>\n",
       "      <td>0</td>\n",
       "      <td>7</td>\n",
       "      <td>3</td>\n",
       "      <td>4</td>\n",
       "      <td>...</td>\n",
       "      <td>1</td>\n",
       "      <td>0</td>\n",
       "      <td>0</td>\n",
       "      <td>2</td>\n",
       "      <td>10</td>\n",
       "      <td>6</td>\n",
       "      <td>0</td>\n",
       "      <td>5</td>\n",
       "      <td>0</td>\n",
       "      <td>0</td>\n",
       "    </tr>\n",
       "    <tr>\n",
       "      <th>2482</th>\n",
       "      <td>0</td>\n",
       "      <td>0</td>\n",
       "      <td>0</td>\n",
       "      <td>1</td>\n",
       "      <td>0</td>\n",
       "      <td>0</td>\n",
       "      <td>1</td>\n",
       "      <td>0</td>\n",
       "      <td>0</td>\n",
       "      <td>1</td>\n",
       "      <td>...</td>\n",
       "      <td>0</td>\n",
       "      <td>0</td>\n",
       "      <td>0</td>\n",
       "      <td>0</td>\n",
       "      <td>0</td>\n",
       "      <td>0</td>\n",
       "      <td>0</td>\n",
       "      <td>0</td>\n",
       "      <td>0</td>\n",
       "      <td>0</td>\n",
       "    </tr>\n",
       "  </tbody>\n",
       "</table>\n",
       "<p>102 rows × 102 columns</p>\n",
       "</div>"
      ],
      "text/plain": [
       "      136   153   172   174   179   250   326   452   457   583   ...  2339  \\\n",
       "136      0     4     2    20     4     3    31     5     9     4  ...     2   \n",
       "153      3     0     0     1     1     1     1     9     1     4  ...     0   \n",
       "172      7     2     0    11     3     2     8     5     2     1  ...     2   \n",
       "174     13     5     4     0     6     5    19     7     2     3  ...     2   \n",
       "179      8     2     2    12     0     1    10     6     5     2  ...     3   \n",
       "...    ...   ...   ...   ...   ...   ...   ...   ...   ...   ...  ...   ...   \n",
       "2464     1     2     1     3     0     1     1    10     3     3  ...     2   \n",
       "2466     0     1     0     3     0     1     3     7     3     1  ...     3   \n",
       "2470     2     1     2     5     1     1     2    11     5     3  ...     5   \n",
       "2474     0     0     0     2     0     1     0     7     3     4  ...     1   \n",
       "2482     0     0     0     1     0     0     1     0     0     1  ...     0   \n",
       "\n",
       "      2364  2365  2366  2462  2464  2466  2470  2474  2482  \n",
       "136      4     9     0     2     0     0     1     0     0  \n",
       "153      1     0     0     2     0     0     0     0     0  \n",
       "172      1     1     1     1     0     0     0     0     0  \n",
       "174      2     6     1     0     1     0     0     0     0  \n",
       "179      1     5     0     0     0     0     0     0     0  \n",
       "...    ...   ...   ...   ...   ...   ...   ...   ...   ...  \n",
       "2464     1     0     1     2     0     0     5     0     0  \n",
       "2466     0     0     0     0     1     0     0     0     0  \n",
       "2470     2     1     2     9     8     0     0     2     0  \n",
       "2474     0     0     2    10     6     0     5     0     0  \n",
       "2482     0     0     0     0     0     0     0     0     0  \n",
       "\n",
       "[102 rows x 102 columns]"
      ]
     },
     "execution_count": 149,
     "metadata": {},
     "output_type": "execute_result"
    }
   ],
   "source": [
    "adjf_S"
   ]
  },
  {
   "cell_type": "code",
   "execution_count": 150,
   "metadata": {},
   "outputs": [],
   "source": [
    "adjf_S.to_excel(\"adj_matrix_116_Senate_Fowler.xlsx\")  "
   ]
  },
  {
   "cell_type": "code",
   "execution_count": 151,
   "metadata": {},
   "outputs": [],
   "source": [
    "#make helpful data frame from dict that can be joined \n",
    "#congressperson info\n",
    "data1= {}\n",
    "for key in Senate_Bill_Dict: \n",
    "    sponser_id= Senate_Bill_Dict[str(key)]['sponser']['ID']   \n",
    "    if sponser_id not in data1.keys(): \n",
    "        data1[int(sponser_id)]= [Senate_Bill_Dict[str(key)]['sponser']['LAST NAME'].upper(), Senate_Bill_Dict[str(key)]['sponser']['PARTY'], Senate_Bill_Dict[str(key)]['sponser']['FULL NAME'], sponser_id]\n",
    "    num_cospo= len(Senate_Bill_Dict[str(key)]['cosponsers'])\n",
    "    for i in range(0,num_cospo): \n",
    "        cospo_id= Senate_Bill_Dict[str(key)]['cosponsers'][i][\"ID\"]\n",
    "        if cospo_id not in data1.keys():\n",
    "            data1[int(cospo_id)]= [Senate_Bill_Dict[str(key)]['cosponsers'][i]['LAST NAME'].upper(), Senate_Bill_Dict[str(key)]['cosponsers'][i]['PARTY'],Senate_Bill_Dict[str(key)]['cosponsers'][i]['FULL NAME'], cospo_id]\n",
    "\n"
   ]
  },
  {
   "cell_type": "code",
   "execution_count": 152,
   "metadata": {},
   "outputs": [],
   "source": [
    "datf= pd.DataFrame.from_dict(data1, orient='index')\n",
    "datf.columns= ['Last Name', 'Party', 'Full Name', 'ID'] "
   ]
  },
  {
   "cell_type": "code",
   "execution_count": 153,
   "metadata": {},
   "outputs": [],
   "source": [
    "datf[\"ID\"]= pd.to_numeric(datf[\"ID\"])"
   ]
  },
  {
   "cell_type": "code",
   "execution_count": 155,
   "metadata": {},
   "outputs": [
    {
     "data": {
      "text/html": [
       "<div>\n",
       "<style scoped>\n",
       "    .dataframe tbody tr th:only-of-type {\n",
       "        vertical-align: middle;\n",
       "    }\n",
       "\n",
       "    .dataframe tbody tr th {\n",
       "        vertical-align: top;\n",
       "    }\n",
       "\n",
       "    .dataframe thead th {\n",
       "        text-align: right;\n",
       "    }\n",
       "</style>\n",
       "<table border=\"1\" class=\"dataframe\">\n",
       "  <thead>\n",
       "    <tr style=\"text-align: right;\">\n",
       "      <th></th>\n",
       "      <th>Last Name</th>\n",
       "      <th>Party</th>\n",
       "      <th>Full Name</th>\n",
       "      <th>ID</th>\n",
       "      <th>Number of Bills Cosponsored</th>\n",
       "      <th>Number of Bills Sponsered</th>\n",
       "    </tr>\n",
       "  </thead>\n",
       "  <tbody>\n",
       "    <tr>\n",
       "      <th>0</th>\n",
       "      <td>KLOBUCHAR</td>\n",
       "      <td>D</td>\n",
       "      <td>Sen. Klobuchar, Amy [D-MN]</td>\n",
       "      <td>1826</td>\n",
       "      <td>807</td>\n",
       "      <td>118</td>\n",
       "    </tr>\n",
       "    <tr>\n",
       "      <th>1</th>\n",
       "      <td>CASEY</td>\n",
       "      <td>D</td>\n",
       "      <td>Sen. Casey, Robert P., Jr. [D-PA]</td>\n",
       "      <td>1828</td>\n",
       "      <td>531</td>\n",
       "      <td>115</td>\n",
       "    </tr>\n",
       "    <tr>\n",
       "      <th>2</th>\n",
       "      <td>CAPITO</td>\n",
       "      <td>R</td>\n",
       "      <td>Sen. Capito, Shelley Moore [R-WV]</td>\n",
       "      <td>1676</td>\n",
       "      <td>415</td>\n",
       "      <td>29</td>\n",
       "    </tr>\n",
       "    <tr>\n",
       "      <th>3</th>\n",
       "      <td>ERNST</td>\n",
       "      <td>R</td>\n",
       "      <td>Sen. Ernst, Joni [R-IA]</td>\n",
       "      <td>2283</td>\n",
       "      <td>371</td>\n",
       "      <td>52</td>\n",
       "    </tr>\n",
       "    <tr>\n",
       "      <th>4</th>\n",
       "      <td>ROSEN</td>\n",
       "      <td>D</td>\n",
       "      <td>Sen. Rosen, Jacky [D-NV]</td>\n",
       "      <td>2339</td>\n",
       "      <td>573</td>\n",
       "      <td>37</td>\n",
       "    </tr>\n",
       "    <tr>\n",
       "      <th>...</th>\n",
       "      <td>...</td>\n",
       "      <td>...</td>\n",
       "      <td>...</td>\n",
       "      <td>...</td>\n",
       "      <td>...</td>\n",
       "      <td>...</td>\n",
       "    </tr>\n",
       "    <tr>\n",
       "      <th>97</th>\n",
       "      <td>BURR</td>\n",
       "      <td>R</td>\n",
       "      <td>Sen. Burr, Richard [R-NC]</td>\n",
       "      <td>153</td>\n",
       "      <td>135</td>\n",
       "      <td>34</td>\n",
       "    </tr>\n",
       "    <tr>\n",
       "      <th>98</th>\n",
       "      <td>PAUL</td>\n",
       "      <td>R</td>\n",
       "      <td>Sen. Paul, Rand [R-KY]</td>\n",
       "      <td>2082</td>\n",
       "      <td>104</td>\n",
       "      <td>63</td>\n",
       "    </tr>\n",
       "    <tr>\n",
       "      <th>99</th>\n",
       "      <td>JOHNSON</td>\n",
       "      <td>R</td>\n",
       "      <td>Sen. Johnson, Ron [R-WI]</td>\n",
       "      <td>2086</td>\n",
       "      <td>122</td>\n",
       "      <td>43</td>\n",
       "    </tr>\n",
       "    <tr>\n",
       "      <th>100</th>\n",
       "      <td>KELLY</td>\n",
       "      <td>D</td>\n",
       "      <td>Sen. Kelly, Mark [D-AZ]</td>\n",
       "      <td>2482</td>\n",
       "      <td>28</td>\n",
       "      <td>0</td>\n",
       "    </tr>\n",
       "    <tr>\n",
       "      <th>101</th>\n",
       "      <td>SHELBY</td>\n",
       "      <td>R</td>\n",
       "      <td>Sen. Shelby, Richard C. [R-AL]</td>\n",
       "      <td>1049</td>\n",
       "      <td>42</td>\n",
       "      <td>6</td>\n",
       "    </tr>\n",
       "  </tbody>\n",
       "</table>\n",
       "<p>102 rows × 6 columns</p>\n",
       "</div>"
      ],
      "text/plain": [
       "     Last Name Party                          Full Name    ID  \\\n",
       "0    KLOBUCHAR     D         Sen. Klobuchar, Amy [D-MN]  1826   \n",
       "1        CASEY     D  Sen. Casey, Robert P., Jr. [D-PA]  1828   \n",
       "2       CAPITO     R  Sen. Capito, Shelley Moore [R-WV]  1676   \n",
       "3        ERNST     R            Sen. Ernst, Joni [R-IA]  2283   \n",
       "4        ROSEN     D           Sen. Rosen, Jacky [D-NV]  2339   \n",
       "..         ...   ...                                ...   ...   \n",
       "97        BURR     R          Sen. Burr, Richard [R-NC]   153   \n",
       "98        PAUL     R             Sen. Paul, Rand [R-KY]  2082   \n",
       "99     JOHNSON     R           Sen. Johnson, Ron [R-WI]  2086   \n",
       "100      KELLY     D            Sen. Kelly, Mark [D-AZ]  2482   \n",
       "101     SHELBY     R     Sen. Shelby, Richard C. [R-AL]  1049   \n",
       "\n",
       "     Number of Bills Cosponsored  Number of Bills Sponsered  \n",
       "0                            807                        118  \n",
       "1                            531                        115  \n",
       "2                            415                         29  \n",
       "3                            371                         52  \n",
       "4                            573                         37  \n",
       "..                           ...                        ...  \n",
       "97                           135                         34  \n",
       "98                           104                         63  \n",
       "99                           122                         43  \n",
       "100                           28                          0  \n",
       "101                           42                          6  \n",
       "\n",
       "[102 rows x 6 columns]"
      ]
     },
     "execution_count": 155,
     "metadata": {},
     "output_type": "execute_result"
    }
   ],
   "source": [
    "datf.merge(df_S, left_on='ID', right_on='ID') "
   ]
  },
  {
   "cell_type": "code",
   "execution_count": 156,
   "metadata": {},
   "outputs": [],
   "source": [
    "datf.to_csv(\"leginfo_116S.csv\") #save"
   ]
  },
  {
   "cell_type": "code",
   "execution_count": null,
   "metadata": {},
   "outputs": [],
   "source": [
    "## NOW DO 115"
   ]
  },
  {
   "cell_type": "code",
   "execution_count": 157,
   "metadata": {},
   "outputs": [],
   "source": [
    "#make dict for HR-116 \n",
    "os.chdir(\"/Users/caranix/OneDrive - The Ohio State University/Social Influence/Data/Congress/115/House\")"
   ]
  },
  {
   "cell_type": "code",
   "execution_count": 163,
   "metadata": {},
   "outputs": [],
   "source": [
    "Bill_Dict={} \n",
    "id_nums = [] \n",
    "bill_nums = []\n",
    "\n",
    "path = \"BILLSTATUS-115-hr-JSON\"\n",
    "for filename in os.listdir(path): #go through the folder at the path given and for all the jsons, get the cleaned bill dictionaru\n",
    "    if not filename.endswith('.json'): continue\n",
    "    fullname = os.path.join(path, filename)\n",
    "    with open(fullname, 'r') as read_file:\n",
    "        bill_of_interest = json.load(read_file)\n",
    "        bill_id = bill_of_interest['billStatus']['bill']['billNumber']\n",
    "        bill_nums.append(bill_id) #also store bill ids \n",
    "        Bill_Dict[bill_id]= get_dict_for_bill(bill_of_interest,id_nums)\n"
   ]
  },
  {
   "cell_type": "code",
   "execution_count": 164,
   "metadata": {},
   "outputs": [
    {
     "data": {
      "text/plain": [
       "7394"
      ]
     },
     "execution_count": 164,
     "metadata": {},
     "output_type": "execute_result"
    }
   ],
   "source": [
    "len(Bill_Dict)"
   ]
  },
  {
   "cell_type": "code",
   "execution_count": 165,
   "metadata": {},
   "outputs": [],
   "source": [
    "os.chdir(\"/Users/caranix/OneDrive - The Ohio State University/Social Influence/Data/Congress/115/House\")\n",
    "\n",
    "Bill_Dict2={} \n",
    "id_nums2 = [] \n",
    "bill_nums2 = []\n",
    "\n",
    "path = \"BILLSTATUS-115-hres-JSON\"\n",
    "for filename in os.listdir(path): #go through the folder at the path given and for all the jsons, get the cleaned bill dictionaru\n",
    "    if not filename.endswith('.json'): continue\n",
    "    fullname = os.path.join(path, filename)\n",
    "    with open(fullname, 'r') as read_file:\n",
    "        bill_of_interest = json.load(read_file)\n",
    "        bill_id = bill_of_interest['billStatus']['bill']['billNumber']\n",
    "        bill_nums2.append(bill_id) #also store bill ids \n",
    "        Bill_Dict2[bill_id+\"HRES\"]= get_dict_for_HRESbill(bill_of_interest,id_nums2)"
   ]
  },
  {
   "cell_type": "code",
   "execution_count": 166,
   "metadata": {},
   "outputs": [],
   "source": [
    "Merge(Bill_Dict2,Bill_Dict) #merge all into Bill_Dict!"
   ]
  },
  {
   "cell_type": "code",
   "execution_count": 185,
   "metadata": {},
   "outputs": [
    {
     "data": {
      "text/plain": [
       "8581"
      ]
     },
     "execution_count": 185,
     "metadata": {},
     "output_type": "execute_result"
    }
   ],
   "source": [
    "len(Bill_Dict)"
   ]
  },
  {
   "cell_type": "code",
   "execution_count": 186,
   "metadata": {},
   "outputs": [],
   "source": [
    "#save our Bill Dictionary as a json!\n",
    "with open('BILLSTATUS-115-hr-and-hres-JSON.json', 'w') as fp:\n",
    "    json.dump(Bill_Dict, fp)"
   ]
  },
  {
   "cell_type": "code",
   "execution_count": 168,
   "metadata": {},
   "outputs": [],
   "source": [
    "master_id_nums= id_nums + id_nums2\n",
    "len(master_id_nums)\n",
    "u_id_nums=np.unique(master_id_nums)"
   ]
  },
  {
   "cell_type": "code",
   "execution_count": 169,
   "metadata": {},
   "outputs": [],
   "source": [
    "#count number cosponsors/sponsors\n",
    "columns= [\"Number of Bills Cosponsored\", \"Number of Bills Sponsered\", \"ID\"]\n",
    "df_ = pd.DataFrame(index=u_id_nums, columns= columns)\n",
    "df_ = df_.fillna(0)\n",
    "\n",
    "for key in Bill_Dict: \n",
    "    sponser_id= Bill_Dict[str(key)]['sponser']['ID']\n",
    "    df_.loc[int(sponser_id)][\"ID\"] = sponser_id\n",
    "    df_.loc[int(sponser_id)][\"Number of Bills Sponsered\"] += 1\n",
    "    num_cospo= len(Bill_Dict[str(key)]['cosponsers'])\n",
    "    for i in range(0,num_cospo): \n",
    "        cospo_id= Bill_Dict[str(key)]['cosponsers'][i][\"ID\"]\n",
    "        df_.loc[int(cospo_id)][\"Number of Bills Cosponsored\"] += 1\n",
    "   "
   ]
  },
  {
   "cell_type": "code",
   "execution_count": 173,
   "metadata": {},
   "outputs": [
    {
     "data": {
      "text/html": [
       "<div>\n",
       "<style scoped>\n",
       "    .dataframe tbody tr th:only-of-type {\n",
       "        vertical-align: middle;\n",
       "    }\n",
       "\n",
       "    .dataframe tbody tr th {\n",
       "        vertical-align: top;\n",
       "    }\n",
       "\n",
       "    .dataframe thead th {\n",
       "        text-align: right;\n",
       "    }\n",
       "</style>\n",
       "<table border=\"1\" class=\"dataframe\">\n",
       "  <thead>\n",
       "    <tr style=\"text-align: right;\">\n",
       "      <th></th>\n",
       "      <th>Number of Bills Cosponsored</th>\n",
       "      <th>Number of Bills Sponsered</th>\n",
       "      <th>ID</th>\n",
       "    </tr>\n",
       "  </thead>\n",
       "  <tbody>\n",
       "  </tbody>\n",
       "</table>\n",
       "</div>"
      ],
      "text/plain": [
       "Empty DataFrame\n",
       "Columns: [Number of Bills Cosponsored, Number of Bills Sponsered, ID]\n",
       "Index: []"
      ]
     },
     "execution_count": 173,
     "metadata": {},
     "output_type": "execute_result"
    }
   ],
   "source": [
    "df_.loc[df_['ID'] == 0] #print out those w/ 0 sponsorships "
   ]
  },
  {
   "cell_type": "code",
   "execution_count": 172,
   "metadata": {},
   "outputs": [],
   "source": [
    "df_.loc[70][\"ID\"]= \"70\"\n",
    "df_.loc[2155][\"ID\"]= \"2155\"\n",
    "df_.loc[2254][\"ID\"]= \"2254\"\n",
    "df_.loc[2369][\"ID\"]= \"2369\"\n",
    "df_.loc[2370][\"ID\"]= \"2370\"\n",
    "df_.loc[2372][\"ID\"]= \"2372\""
   ]
  },
  {
   "cell_type": "code",
   "execution_count": 174,
   "metadata": {},
   "outputs": [],
   "source": [
    "#FOWLER VERSION OF COSPONSORSHIP \n",
    "#attach cosponsors to sponsors in directed fashion \n",
    "adjf_ = pd.DataFrame(index=u_id_nums, columns= u_id_nums)\n",
    "adjf_ = adjf_.fillna(0)\n",
    "for key in Bill_Dict: \n",
    "    sponser_id= Bill_Dict[str(key)]['sponser']['ID']\n",
    "    num_cospo= len(Bill_Dict[str(key)]['cosponsers'])\n",
    "    for i in range(0,num_cospo): \n",
    "        cospo_id= Bill_Dict[str(key)]['cosponsers'][i][\"ID\"]\n",
    "        adjf_.loc[int(cospo_id)][int(sponser_id)] += 1"
   ]
  },
  {
   "cell_type": "code",
   "execution_count": 177,
   "metadata": {},
   "outputs": [
    {
     "data": {
      "text/html": [
       "<div>\n",
       "<style scoped>\n",
       "    .dataframe tbody tr th:only-of-type {\n",
       "        vertical-align: middle;\n",
       "    }\n",
       "\n",
       "    .dataframe tbody tr th {\n",
       "        vertical-align: top;\n",
       "    }\n",
       "\n",
       "    .dataframe thead th {\n",
       "        text-align: right;\n",
       "    }\n",
       "</style>\n",
       "<table border=\"1\" class=\"dataframe\">\n",
       "  <thead>\n",
       "    <tr style=\"text-align: right;\">\n",
       "      <th></th>\n",
       "      <th>Number of Bills Cosponsored</th>\n",
       "      <th>Number of Bills Sponsered</th>\n",
       "      <th>ID</th>\n",
       "    </tr>\n",
       "  </thead>\n",
       "  <tbody>\n",
       "    <tr>\n",
       "      <th>62</th>\n",
       "      <td>110</td>\n",
       "      <td>7</td>\n",
       "      <td>62</td>\n",
       "    </tr>\n",
       "    <tr>\n",
       "      <th>70</th>\n",
       "      <td>2</td>\n",
       "      <td>0</td>\n",
       "      <td>70</td>\n",
       "    </tr>\n",
       "    <tr>\n",
       "      <th>91</th>\n",
       "      <td>334</td>\n",
       "      <td>4</td>\n",
       "      <td>91</td>\n",
       "    </tr>\n",
       "    <tr>\n",
       "      <th>99</th>\n",
       "      <td>770</td>\n",
       "      <td>31</td>\n",
       "      <td>99</td>\n",
       "    </tr>\n",
       "    <tr>\n",
       "      <th>165</th>\n",
       "      <td>171</td>\n",
       "      <td>16</td>\n",
       "      <td>165</td>\n",
       "    </tr>\n",
       "    <tr>\n",
       "      <th>...</th>\n",
       "      <td>...</td>\n",
       "      <td>...</td>\n",
       "      <td>...</td>\n",
       "    </tr>\n",
       "    <tr>\n",
       "      <th>2371</th>\n",
       "      <td>45</td>\n",
       "      <td>1</td>\n",
       "      <td>2371</td>\n",
       "    </tr>\n",
       "    <tr>\n",
       "      <th>2372</th>\n",
       "      <td>2</td>\n",
       "      <td>0</td>\n",
       "      <td>2372</td>\n",
       "    </tr>\n",
       "    <tr>\n",
       "      <th>2373</th>\n",
       "      <td>14</td>\n",
       "      <td>1</td>\n",
       "      <td>2373</td>\n",
       "    </tr>\n",
       "    <tr>\n",
       "      <th>2374</th>\n",
       "      <td>13</td>\n",
       "      <td>1</td>\n",
       "      <td>2374</td>\n",
       "    </tr>\n",
       "    <tr>\n",
       "      <th>2375</th>\n",
       "      <td>4</td>\n",
       "      <td>2</td>\n",
       "      <td>2375</td>\n",
       "    </tr>\n",
       "  </tbody>\n",
       "</table>\n",
       "<p>453 rows × 3 columns</p>\n",
       "</div>"
      ],
      "text/plain": [
       "      Number of Bills Cosponsored  Number of Bills Sponsered    ID\n",
       "62                            110                          7    62\n",
       "70                              2                          0    70\n",
       "91                            334                          4    91\n",
       "99                            770                         31    99\n",
       "165                           171                         16   165\n",
       "...                           ...                        ...   ...\n",
       "2371                           45                          1  2371\n",
       "2372                            2                          0  2372\n",
       "2373                           14                          1  2373\n",
       "2374                           13                          1  2374\n",
       "2375                            4                          2  2375\n",
       "\n",
       "[453 rows x 3 columns]"
      ]
     },
     "execution_count": 177,
     "metadata": {},
     "output_type": "execute_result"
    }
   ],
   "source": [
    "df_"
   ]
  },
  {
   "cell_type": "code",
   "execution_count": 175,
   "metadata": {},
   "outputs": [
    {
     "data": {
      "text/html": [
       "<div>\n",
       "<style scoped>\n",
       "    .dataframe tbody tr th:only-of-type {\n",
       "        vertical-align: middle;\n",
       "    }\n",
       "\n",
       "    .dataframe tbody tr th {\n",
       "        vertical-align: top;\n",
       "    }\n",
       "\n",
       "    .dataframe thead th {\n",
       "        text-align: right;\n",
       "    }\n",
       "</style>\n",
       "<table border=\"1\" class=\"dataframe\">\n",
       "  <thead>\n",
       "    <tr style=\"text-align: right;\">\n",
       "      <th></th>\n",
       "      <th>62</th>\n",
       "      <th>70</th>\n",
       "      <th>91</th>\n",
       "      <th>99</th>\n",
       "      <th>165</th>\n",
       "      <th>186</th>\n",
       "      <th>208</th>\n",
       "      <th>229</th>\n",
       "      <th>231</th>\n",
       "      <th>256</th>\n",
       "      <th>...</th>\n",
       "      <th>2363</th>\n",
       "      <th>2367</th>\n",
       "      <th>2368</th>\n",
       "      <th>2369</th>\n",
       "      <th>2370</th>\n",
       "      <th>2371</th>\n",
       "      <th>2372</th>\n",
       "      <th>2373</th>\n",
       "      <th>2374</th>\n",
       "      <th>2375</th>\n",
       "    </tr>\n",
       "  </thead>\n",
       "  <tbody>\n",
       "    <tr>\n",
       "      <th>62</th>\n",
       "      <td>0</td>\n",
       "      <td>0</td>\n",
       "      <td>0</td>\n",
       "      <td>0</td>\n",
       "      <td>0</td>\n",
       "      <td>0</td>\n",
       "      <td>0</td>\n",
       "      <td>0</td>\n",
       "      <td>0</td>\n",
       "      <td>0</td>\n",
       "      <td>...</td>\n",
       "      <td>0</td>\n",
       "      <td>0</td>\n",
       "      <td>0</td>\n",
       "      <td>0</td>\n",
       "      <td>0</td>\n",
       "      <td>0</td>\n",
       "      <td>0</td>\n",
       "      <td>0</td>\n",
       "      <td>0</td>\n",
       "      <td>0</td>\n",
       "    </tr>\n",
       "    <tr>\n",
       "      <th>70</th>\n",
       "      <td>0</td>\n",
       "      <td>0</td>\n",
       "      <td>0</td>\n",
       "      <td>0</td>\n",
       "      <td>0</td>\n",
       "      <td>0</td>\n",
       "      <td>0</td>\n",
       "      <td>0</td>\n",
       "      <td>0</td>\n",
       "      <td>0</td>\n",
       "      <td>...</td>\n",
       "      <td>0</td>\n",
       "      <td>0</td>\n",
       "      <td>0</td>\n",
       "      <td>0</td>\n",
       "      <td>0</td>\n",
       "      <td>0</td>\n",
       "      <td>0</td>\n",
       "      <td>0</td>\n",
       "      <td>0</td>\n",
       "      <td>0</td>\n",
       "    </tr>\n",
       "    <tr>\n",
       "      <th>91</th>\n",
       "      <td>1</td>\n",
       "      <td>0</td>\n",
       "      <td>0</td>\n",
       "      <td>1</td>\n",
       "      <td>0</td>\n",
       "      <td>0</td>\n",
       "      <td>2</td>\n",
       "      <td>3</td>\n",
       "      <td>2</td>\n",
       "      <td>1</td>\n",
       "      <td>...</td>\n",
       "      <td>0</td>\n",
       "      <td>0</td>\n",
       "      <td>0</td>\n",
       "      <td>0</td>\n",
       "      <td>0</td>\n",
       "      <td>0</td>\n",
       "      <td>0</td>\n",
       "      <td>0</td>\n",
       "      <td>0</td>\n",
       "      <td>0</td>\n",
       "    </tr>\n",
       "    <tr>\n",
       "      <th>99</th>\n",
       "      <td>1</td>\n",
       "      <td>0</td>\n",
       "      <td>1</td>\n",
       "      <td>0</td>\n",
       "      <td>1</td>\n",
       "      <td>0</td>\n",
       "      <td>2</td>\n",
       "      <td>5</td>\n",
       "      <td>0</td>\n",
       "      <td>1</td>\n",
       "      <td>...</td>\n",
       "      <td>0</td>\n",
       "      <td>0</td>\n",
       "      <td>0</td>\n",
       "      <td>0</td>\n",
       "      <td>0</td>\n",
       "      <td>0</td>\n",
       "      <td>0</td>\n",
       "      <td>0</td>\n",
       "      <td>0</td>\n",
       "      <td>0</td>\n",
       "    </tr>\n",
       "    <tr>\n",
       "      <th>165</th>\n",
       "      <td>1</td>\n",
       "      <td>0</td>\n",
       "      <td>0</td>\n",
       "      <td>1</td>\n",
       "      <td>0</td>\n",
       "      <td>1</td>\n",
       "      <td>0</td>\n",
       "      <td>0</td>\n",
       "      <td>0</td>\n",
       "      <td>0</td>\n",
       "      <td>...</td>\n",
       "      <td>0</td>\n",
       "      <td>0</td>\n",
       "      <td>0</td>\n",
       "      <td>0</td>\n",
       "      <td>0</td>\n",
       "      <td>0</td>\n",
       "      <td>0</td>\n",
       "      <td>0</td>\n",
       "      <td>0</td>\n",
       "      <td>0</td>\n",
       "    </tr>\n",
       "    <tr>\n",
       "      <th>...</th>\n",
       "      <td>...</td>\n",
       "      <td>...</td>\n",
       "      <td>...</td>\n",
       "      <td>...</td>\n",
       "      <td>...</td>\n",
       "      <td>...</td>\n",
       "      <td>...</td>\n",
       "      <td>...</td>\n",
       "      <td>...</td>\n",
       "      <td>...</td>\n",
       "      <td>...</td>\n",
       "      <td>...</td>\n",
       "      <td>...</td>\n",
       "      <td>...</td>\n",
       "      <td>...</td>\n",
       "      <td>...</td>\n",
       "      <td>...</td>\n",
       "      <td>...</td>\n",
       "      <td>...</td>\n",
       "      <td>...</td>\n",
       "      <td>...</td>\n",
       "    </tr>\n",
       "    <tr>\n",
       "      <th>2371</th>\n",
       "      <td>0</td>\n",
       "      <td>0</td>\n",
       "      <td>0</td>\n",
       "      <td>0</td>\n",
       "      <td>0</td>\n",
       "      <td>0</td>\n",
       "      <td>1</td>\n",
       "      <td>0</td>\n",
       "      <td>0</td>\n",
       "      <td>0</td>\n",
       "      <td>...</td>\n",
       "      <td>0</td>\n",
       "      <td>0</td>\n",
       "      <td>0</td>\n",
       "      <td>0</td>\n",
       "      <td>0</td>\n",
       "      <td>0</td>\n",
       "      <td>0</td>\n",
       "      <td>0</td>\n",
       "      <td>0</td>\n",
       "      <td>0</td>\n",
       "    </tr>\n",
       "    <tr>\n",
       "      <th>2372</th>\n",
       "      <td>0</td>\n",
       "      <td>0</td>\n",
       "      <td>0</td>\n",
       "      <td>0</td>\n",
       "      <td>0</td>\n",
       "      <td>0</td>\n",
       "      <td>0</td>\n",
       "      <td>0</td>\n",
       "      <td>0</td>\n",
       "      <td>0</td>\n",
       "      <td>...</td>\n",
       "      <td>0</td>\n",
       "      <td>0</td>\n",
       "      <td>0</td>\n",
       "      <td>0</td>\n",
       "      <td>0</td>\n",
       "      <td>0</td>\n",
       "      <td>0</td>\n",
       "      <td>0</td>\n",
       "      <td>0</td>\n",
       "      <td>0</td>\n",
       "    </tr>\n",
       "    <tr>\n",
       "      <th>2373</th>\n",
       "      <td>0</td>\n",
       "      <td>0</td>\n",
       "      <td>0</td>\n",
       "      <td>0</td>\n",
       "      <td>0</td>\n",
       "      <td>0</td>\n",
       "      <td>1</td>\n",
       "      <td>0</td>\n",
       "      <td>0</td>\n",
       "      <td>0</td>\n",
       "      <td>...</td>\n",
       "      <td>0</td>\n",
       "      <td>0</td>\n",
       "      <td>0</td>\n",
       "      <td>0</td>\n",
       "      <td>0</td>\n",
       "      <td>0</td>\n",
       "      <td>0</td>\n",
       "      <td>0</td>\n",
       "      <td>0</td>\n",
       "      <td>0</td>\n",
       "    </tr>\n",
       "    <tr>\n",
       "      <th>2374</th>\n",
       "      <td>0</td>\n",
       "      <td>0</td>\n",
       "      <td>0</td>\n",
       "      <td>0</td>\n",
       "      <td>0</td>\n",
       "      <td>0</td>\n",
       "      <td>0</td>\n",
       "      <td>0</td>\n",
       "      <td>0</td>\n",
       "      <td>0</td>\n",
       "      <td>...</td>\n",
       "      <td>0</td>\n",
       "      <td>0</td>\n",
       "      <td>0</td>\n",
       "      <td>0</td>\n",
       "      <td>0</td>\n",
       "      <td>0</td>\n",
       "      <td>0</td>\n",
       "      <td>0</td>\n",
       "      <td>0</td>\n",
       "      <td>0</td>\n",
       "    </tr>\n",
       "    <tr>\n",
       "      <th>2375</th>\n",
       "      <td>0</td>\n",
       "      <td>0</td>\n",
       "      <td>0</td>\n",
       "      <td>0</td>\n",
       "      <td>0</td>\n",
       "      <td>0</td>\n",
       "      <td>0</td>\n",
       "      <td>1</td>\n",
       "      <td>0</td>\n",
       "      <td>0</td>\n",
       "      <td>...</td>\n",
       "      <td>0</td>\n",
       "      <td>0</td>\n",
       "      <td>0</td>\n",
       "      <td>0</td>\n",
       "      <td>0</td>\n",
       "      <td>0</td>\n",
       "      <td>0</td>\n",
       "      <td>0</td>\n",
       "      <td>0</td>\n",
       "      <td>0</td>\n",
       "    </tr>\n",
       "  </tbody>\n",
       "</table>\n",
       "<p>453 rows × 453 columns</p>\n",
       "</div>"
      ],
      "text/plain": [
       "      62    70    91    99    165   186   208   229   231   256   ...  2363  \\\n",
       "62       0     0     0     0     0     0     0     0     0     0  ...     0   \n",
       "70       0     0     0     0     0     0     0     0     0     0  ...     0   \n",
       "91       1     0     0     1     0     0     2     3     2     1  ...     0   \n",
       "99       1     0     1     0     1     0     2     5     0     1  ...     0   \n",
       "165      1     0     0     1     0     1     0     0     0     0  ...     0   \n",
       "...    ...   ...   ...   ...   ...   ...   ...   ...   ...   ...  ...   ...   \n",
       "2371     0     0     0     0     0     0     1     0     0     0  ...     0   \n",
       "2372     0     0     0     0     0     0     0     0     0     0  ...     0   \n",
       "2373     0     0     0     0     0     0     1     0     0     0  ...     0   \n",
       "2374     0     0     0     0     0     0     0     0     0     0  ...     0   \n",
       "2375     0     0     0     0     0     0     0     1     0     0  ...     0   \n",
       "\n",
       "      2367  2368  2369  2370  2371  2372  2373  2374  2375  \n",
       "62       0     0     0     0     0     0     0     0     0  \n",
       "70       0     0     0     0     0     0     0     0     0  \n",
       "91       0     0     0     0     0     0     0     0     0  \n",
       "99       0     0     0     0     0     0     0     0     0  \n",
       "165      0     0     0     0     0     0     0     0     0  \n",
       "...    ...   ...   ...   ...   ...   ...   ...   ...   ...  \n",
       "2371     0     0     0     0     0     0     0     0     0  \n",
       "2372     0     0     0     0     0     0     0     0     0  \n",
       "2373     0     0     0     0     0     0     0     0     0  \n",
       "2374     0     0     0     0     0     0     0     0     0  \n",
       "2375     0     0     0     0     0     0     0     0     0  \n",
       "\n",
       "[453 rows x 453 columns]"
      ]
     },
     "execution_count": 175,
     "metadata": {},
     "output_type": "execute_result"
    }
   ],
   "source": [
    "adjf_"
   ]
  },
  {
   "cell_type": "code",
   "execution_count": 179,
   "metadata": {},
   "outputs": [],
   "source": [
    "adjf_.to_excel(\"adj_matrix_115_House_Fowler.xlsx\")  "
   ]
  },
  {
   "cell_type": "code",
   "execution_count": 180,
   "metadata": {},
   "outputs": [
    {
     "data": {
      "text/html": [
       "<div>\n",
       "<style scoped>\n",
       "    .dataframe tbody tr th:only-of-type {\n",
       "        vertical-align: middle;\n",
       "    }\n",
       "\n",
       "    .dataframe tbody tr th {\n",
       "        vertical-align: top;\n",
       "    }\n",
       "\n",
       "    .dataframe thead th {\n",
       "        text-align: right;\n",
       "    }\n",
       "</style>\n",
       "<table border=\"1\" class=\"dataframe\">\n",
       "  <thead>\n",
       "    <tr style=\"text-align: right;\">\n",
       "      <th></th>\n",
       "      <th>Last Name</th>\n",
       "      <th>Party</th>\n",
       "      <th>Full Name</th>\n",
       "      <th>ID</th>\n",
       "      <th>Number of Bills Cosponsored</th>\n",
       "      <th>Number of Bills Sponsered</th>\n",
       "    </tr>\n",
       "  </thead>\n",
       "  <tbody>\n",
       "    <tr>\n",
       "      <th>0</th>\n",
       "      <td>TIPTON</td>\n",
       "      <td>R</td>\n",
       "      <td>Rep. Tipton, Scott  R. [R-CO-3]</td>\n",
       "      <td>1997</td>\n",
       "      <td>302</td>\n",
       "      <td>37</td>\n",
       "    </tr>\n",
       "    <tr>\n",
       "      <th>1</th>\n",
       "      <td>POLIS</td>\n",
       "      <td>D</td>\n",
       "      <td>Rep. Polis, Jared [D-CO-2]</td>\n",
       "      <td>1910</td>\n",
       "      <td>491</td>\n",
       "      <td>30</td>\n",
       "    </tr>\n",
       "    <tr>\n",
       "      <th>2</th>\n",
       "      <td>THOMPSON</td>\n",
       "      <td>D</td>\n",
       "      <td>Rep. Thompson, Mike [D-CA-5]</td>\n",
       "      <td>1593</td>\n",
       "      <td>353</td>\n",
       "      <td>24</td>\n",
       "    </tr>\n",
       "    <tr>\n",
       "      <th>3</th>\n",
       "      <td>AMODEI</td>\n",
       "      <td>R</td>\n",
       "      <td>Rep. Amodei, Mark E. [R-NV-2]</td>\n",
       "      <td>2090</td>\n",
       "      <td>168</td>\n",
       "      <td>14</td>\n",
       "    </tr>\n",
       "    <tr>\n",
       "      <th>4</th>\n",
       "      <td>BURGESS</td>\n",
       "      <td>R</td>\n",
       "      <td>Rep. Burgess, Michael C. [R-TX-26]</td>\n",
       "      <td>1751</td>\n",
       "      <td>166</td>\n",
       "      <td>46</td>\n",
       "    </tr>\n",
       "    <tr>\n",
       "      <th>...</th>\n",
       "      <td>...</td>\n",
       "      <td>...</td>\n",
       "      <td>...</td>\n",
       "      <td>...</td>\n",
       "      <td>...</td>\n",
       "      <td>...</td>\n",
       "    </tr>\n",
       "    <tr>\n",
       "      <th>448</th>\n",
       "      <td>WILD</td>\n",
       "      <td>D</td>\n",
       "      <td>Rep. Wild, Susan [D-PA-15]</td>\n",
       "      <td>2374</td>\n",
       "      <td>13</td>\n",
       "      <td>1</td>\n",
       "    </tr>\n",
       "    <tr>\n",
       "      <th>449</th>\n",
       "      <td>BECERRA</td>\n",
       "      <td>D</td>\n",
       "      <td>Rep. Becerra, Xavier [D-CA-34]</td>\n",
       "      <td>70</td>\n",
       "      <td>2</td>\n",
       "      <td>0</td>\n",
       "    </tr>\n",
       "    <tr>\n",
       "      <th>450</th>\n",
       "      <td>JONES</td>\n",
       "      <td>D</td>\n",
       "      <td>Rep. Jones, Brenda [D-MI-13]</td>\n",
       "      <td>2375</td>\n",
       "      <td>4</td>\n",
       "      <td>2</td>\n",
       "    </tr>\n",
       "    <tr>\n",
       "      <th>451</th>\n",
       "      <td>ZINKE</td>\n",
       "      <td>R</td>\n",
       "      <td>Rep. Zinke, Ryan K. [R-MT-At Large]</td>\n",
       "      <td>2254</td>\n",
       "      <td>2</td>\n",
       "      <td>0</td>\n",
       "    </tr>\n",
       "    <tr>\n",
       "      <th>452</th>\n",
       "      <td>HERN</td>\n",
       "      <td>R</td>\n",
       "      <td>Rep. Hern, Kevin [R-OK-1]</td>\n",
       "      <td>2372</td>\n",
       "      <td>2</td>\n",
       "      <td>0</td>\n",
       "    </tr>\n",
       "  </tbody>\n",
       "</table>\n",
       "<p>453 rows × 6 columns</p>\n",
       "</div>"
      ],
      "text/plain": [
       "    Last Name Party                            Full Name    ID  \\\n",
       "0      TIPTON     R      Rep. Tipton, Scott  R. [R-CO-3]  1997   \n",
       "1       POLIS     D           Rep. Polis, Jared [D-CO-2]  1910   \n",
       "2    THOMPSON     D         Rep. Thompson, Mike [D-CA-5]  1593   \n",
       "3      AMODEI     R        Rep. Amodei, Mark E. [R-NV-2]  2090   \n",
       "4     BURGESS     R   Rep. Burgess, Michael C. [R-TX-26]  1751   \n",
       "..        ...   ...                                  ...   ...   \n",
       "448      WILD     D           Rep. Wild, Susan [D-PA-15]  2374   \n",
       "449   BECERRA     D       Rep. Becerra, Xavier [D-CA-34]    70   \n",
       "450     JONES     D         Rep. Jones, Brenda [D-MI-13]  2375   \n",
       "451     ZINKE     R  Rep. Zinke, Ryan K. [R-MT-At Large]  2254   \n",
       "452      HERN     R            Rep. Hern, Kevin [R-OK-1]  2372   \n",
       "\n",
       "     Number of Bills Cosponsored  Number of Bills Sponsered  \n",
       "0                            302                         37  \n",
       "1                            491                         30  \n",
       "2                            353                         24  \n",
       "3                            168                         14  \n",
       "4                            166                         46  \n",
       "..                           ...                        ...  \n",
       "448                           13                          1  \n",
       "449                            2                          0  \n",
       "450                            4                          2  \n",
       "451                            2                          0  \n",
       "452                            2                          0  \n",
       "\n",
       "[453 rows x 6 columns]"
      ]
     },
     "execution_count": 180,
     "metadata": {},
     "output_type": "execute_result"
    }
   ],
   "source": [
    "#make helpful data frame from dict that can be joined \n",
    "#congressperson info\n",
    "data1= {}\n",
    "for key in Bill_Dict: \n",
    "    sponser_id= Bill_Dict[str(key)]['sponser']['ID']   \n",
    "    if sponser_id not in data1.keys(): \n",
    "        data1[int(sponser_id)]= [Bill_Dict[str(key)]['sponser']['LAST NAME'].upper(), Bill_Dict[str(key)]['sponser']['PARTY'], Bill_Dict[str(key)]['sponser']['FULL NAME'], sponser_id]\n",
    "    num_cospo= len(Bill_Dict[str(key)]['cosponsers'])\n",
    "    for i in range(0,num_cospo): \n",
    "        cospo_id= Bill_Dict[str(key)]['cosponsers'][i][\"ID\"]\n",
    "        if cospo_id not in data1.keys():\n",
    "            data1[int(cospo_id)]= [Bill_Dict[str(key)]['cosponsers'][i]['LAST NAME'].upper(), Bill_Dict[str(key)]['cosponsers'][i]['PARTY'],Bill_Dict[str(key)]['cosponsers'][i]['FULL NAME'], cospo_id]\n",
    "datf= pd.DataFrame.from_dict(data1, orient='index')\n",
    "datf.columns= ['Last Name', 'Party', 'Full Name', 'ID'] \n",
    "datf[\"ID\"]= pd.to_numeric(datf[\"ID\"])\n",
    "datf.merge(df_, left_on='ID', right_on='ID') "
   ]
  },
  {
   "cell_type": "code",
   "execution_count": 200,
   "metadata": {},
   "outputs": [],
   "source": [
    "datf.to_csv(\"leginfo_115H.csv\") #save"
   ]
  },
  {
   "cell_type": "code",
   "execution_count": null,
   "metadata": {},
   "outputs": [],
   "source": []
  },
  {
   "cell_type": "code",
   "execution_count": null,
   "metadata": {},
   "outputs": [],
   "source": [
    "#make dict for Senate 115 \n"
   ]
  },
  {
   "cell_type": "code",
   "execution_count": 12,
   "metadata": {},
   "outputs": [],
   "source": [
    "#make dict for S-115\n",
    "os.chdir(\"/Users/caranix/OneDrive - The Ohio State University/Social Influence/Data/Congress/115/Senate\")\n",
    "\n",
    "Senate_Bill_Dict={} \n",
    "Senate_id_nums = [] \n",
    "Senate_bill_nums = []\n",
    "\n",
    "path = \"BILLSTATUS-115-s-JSON\"\n",
    "for filename in os.listdir(path): #go through the folder at the path given and for all the jsons, get the cleaned bill dictionaru\n",
    "    if not filename.endswith('.json'): continue\n",
    "    fullname = os.path.join(path, filename)\n",
    "    with open(fullname, 'r') as read_file:\n",
    "        bill_of_interest = json.load(read_file)\n",
    "        bill_id = bill_of_interest['billStatus']['bill']['billNumber']\n",
    "        Senate_bill_nums.append(bill_id) #also store bill ids \n",
    "        Senate_Bill_Dict[bill_id]= get_dict_for_bill(bill_of_interest,Senate_id_nums)\n"
   ]
  },
  {
   "cell_type": "code",
   "execution_count": 13,
   "metadata": {},
   "outputs": [
    {
     "data": {
      "text/plain": [
       "3805"
      ]
     },
     "execution_count": 13,
     "metadata": {},
     "output_type": "execute_result"
    }
   ],
   "source": [
    "len(Senate_Bill_Dict)"
   ]
  },
  {
   "cell_type": "code",
   "execution_count": 14,
   "metadata": {},
   "outputs": [],
   "source": [
    "#save our Bill Dictionary as a json!\n",
    "with open('BILLSTATUS-115-s-JSON-dict.json', 'w') as fp:\n",
    "    json.dump(Senate_Bill_Dict, fp)"
   ]
  },
  {
   "cell_type": "code",
   "execution_count": 18,
   "metadata": {},
   "outputs": [],
   "source": [
    "Senate_Bill_Dict2={} \n",
    "Senate_id_nums2 = [] \n",
    "Senate_bill_nums2 = []\n",
    "\n",
    "path = \"BILLSTATUS-115-sres-JSON\"\n",
    "for filename in os.listdir(path): #go through the folder at the path given and for all the jsons, get the cleaned bill dictionaru\n",
    "    if not filename.endswith('.json'): continue\n",
    "    fullname = os.path.join(path, filename)\n",
    "    with open(fullname, 'r') as read_file:\n",
    "        bill_of_interest = json.load(read_file)\n",
    "        bill_id = bill_of_interest['billStatus']['bill']['billNumber']\n",
    "        Senate_bill_nums2.append(bill_id) #also store bill ids \n",
    "        Senate_Bill_Dict2[bill_id+ 'SRES']= get_dict_for_bill(bill_of_interest,Senate_id_nums2)"
   ]
  },
  {
   "cell_type": "code",
   "execution_count": 19,
   "metadata": {},
   "outputs": [
    {
     "data": {
      "text/plain": [
       "747"
      ]
     },
     "execution_count": 19,
     "metadata": {},
     "output_type": "execute_result"
    }
   ],
   "source": [
    "len(Senate_Bill_Dict2)"
   ]
  },
  {
   "cell_type": "code",
   "execution_count": 22,
   "metadata": {},
   "outputs": [],
   "source": [
    "Merge(Senate_Bill_Dict2,Senate_Bill_Dict) "
   ]
  },
  {
   "cell_type": "code",
   "execution_count": 23,
   "metadata": {},
   "outputs": [
    {
     "data": {
      "text/plain": [
       "4552"
      ]
     },
     "execution_count": 23,
     "metadata": {},
     "output_type": "execute_result"
    }
   ],
   "source": [
    "len(Senate_Bill_Dict)"
   ]
  },
  {
   "cell_type": "code",
   "execution_count": 26,
   "metadata": {},
   "outputs": [],
   "source": [
    "with open('BILLSTATUS-115-s-and-sres-JSON-dict.json', 'w') as fp:\n",
    "    json.dump(Senate_Bill_Dict, fp)"
   ]
  },
  {
   "cell_type": "code",
   "execution_count": 24,
   "metadata": {},
   "outputs": [],
   "source": [
    "master_id_nums_senate= Senate_id_nums2 + Senate_id_nums\n",
    "u_id_nums_sen=np.unique(master_id_nums_senate)"
   ]
  },
  {
   "cell_type": "code",
   "execution_count": 25,
   "metadata": {},
   "outputs": [],
   "source": [
    "#count number cosponsors/sponsors\n",
    "columns= [\"Number of Bills Cosponsored\", \"Number of Bills Sponsered\", \"ID\"]\n",
    "df_S = pd.DataFrame(index=u_id_nums_sen, columns= columns)\n",
    "df_S = df_S.fillna(0)\n",
    "\n",
    "for key in Senate_Bill_Dict: \n",
    "    sponser_id= Senate_Bill_Dict[str(key)]['sponser']['ID']\n",
    "    df_S.loc[int(sponser_id)][\"ID\"] = sponser_id\n",
    "    df_S.loc[int(sponser_id)][\"Number of Bills Sponsered\"] += 1\n",
    "    num_cospo= len(Senate_Bill_Dict[str(key)]['cosponsers'])\n",
    "    for i in range(0,num_cospo): \n",
    "        cospo_id= Senate_Bill_Dict[str(key)]['cosponsers'][i][\"ID\"]\n",
    "        df_S.loc[int(cospo_id)][\"Number of Bills Cosponsored\"] += 1\n",
    "   "
   ]
  },
  {
   "cell_type": "code",
   "execution_count": 28,
   "metadata": {},
   "outputs": [
    {
     "data": {
      "text/html": [
       "<div>\n",
       "<style scoped>\n",
       "    .dataframe tbody tr th:only-of-type {\n",
       "        vertical-align: middle;\n",
       "    }\n",
       "\n",
       "    .dataframe tbody tr th {\n",
       "        vertical-align: top;\n",
       "    }\n",
       "\n",
       "    .dataframe thead th {\n",
       "        text-align: right;\n",
       "    }\n",
       "</style>\n",
       "<table border=\"1\" class=\"dataframe\">\n",
       "  <thead>\n",
       "    <tr style=\"text-align: right;\">\n",
       "      <th></th>\n",
       "      <th>Number of Bills Cosponsored</th>\n",
       "      <th>Number of Bills Sponsered</th>\n",
       "      <th>ID</th>\n",
       "    </tr>\n",
       "  </thead>\n",
       "  <tbody>\n",
       "    <tr>\n",
       "      <th>1548</th>\n",
       "      <td>1</td>\n",
       "      <td>0</td>\n",
       "      <td>0</td>\n",
       "    </tr>\n",
       "  </tbody>\n",
       "</table>\n",
       "</div>"
      ],
      "text/plain": [
       "      Number of Bills Cosponsored  Number of Bills Sponsered  ID\n",
       "1548                            1                          0   0"
      ]
     },
     "execution_count": 28,
     "metadata": {},
     "output_type": "execute_result"
    }
   ],
   "source": [
    "df_S.loc[df_S['ID'] == 0] "
   ]
  },
  {
   "cell_type": "code",
   "execution_count": 30,
   "metadata": {},
   "outputs": [],
   "source": [
    "df_S.loc[1548][\"ID\"]= \"1548\""
   ]
  },
  {
   "cell_type": "code",
   "execution_count": 27,
   "metadata": {},
   "outputs": [],
   "source": [
    "#FOWLER VERSION OF COSPONSORSHIP \n",
    "#attach cosponsors to sponsors in directed fashion \n",
    "adjf_S = pd.DataFrame(index=u_id_nums_sen, columns= u_id_nums_sen)\n",
    "adjf_S = adjf_S.fillna(0)\n",
    "for key in Senate_Bill_Dict: \n",
    "    sponser_id= Senate_Bill_Dict[str(key)]['sponser']['ID']\n",
    "    num_cospo= len(Senate_Bill_Dict[str(key)]['cosponsers'])\n",
    "    for i in range(0,num_cospo): \n",
    "        cospo_id= Senate_Bill_Dict[str(key)]['cosponsers'][i][\"ID\"]\n",
    "        adjf_S.loc[int(cospo_id)][int(sponser_id)] += 1"
   ]
  },
  {
   "cell_type": "code",
   "execution_count": 31,
   "metadata": {},
   "outputs": [],
   "source": [
    "adjf_S.to_excel(\"adj_matrix_115_Senate_Fowler.xlsx\")  "
   ]
  },
  {
   "cell_type": "code",
   "execution_count": 32,
   "metadata": {},
   "outputs": [
    {
     "data": {
      "text/html": [
       "<div>\n",
       "<style scoped>\n",
       "    .dataframe tbody tr th:only-of-type {\n",
       "        vertical-align: middle;\n",
       "    }\n",
       "\n",
       "    .dataframe tbody tr th {\n",
       "        vertical-align: top;\n",
       "    }\n",
       "\n",
       "    .dataframe thead th {\n",
       "        text-align: right;\n",
       "    }\n",
       "</style>\n",
       "<table border=\"1\" class=\"dataframe\">\n",
       "  <thead>\n",
       "    <tr style=\"text-align: right;\">\n",
       "      <th></th>\n",
       "      <th>Last Name</th>\n",
       "      <th>Party</th>\n",
       "      <th>Full Name</th>\n",
       "      <th>ID</th>\n",
       "      <th>Number of Bills Cosponsored</th>\n",
       "      <th>Number of Bills Sponsered</th>\n",
       "    </tr>\n",
       "  </thead>\n",
       "  <tbody>\n",
       "    <tr>\n",
       "      <th>0</th>\n",
       "      <td>SANDERS</td>\n",
       "      <td>I</td>\n",
       "      <td>Sen. Sanders, Bernard [I-VT]</td>\n",
       "      <td>1010</td>\n",
       "      <td>306</td>\n",
       "      <td>30</td>\n",
       "    </tr>\n",
       "    <tr>\n",
       "      <th>1</th>\n",
       "      <td>TOOMEY</td>\n",
       "      <td>R</td>\n",
       "      <td>Sen. Toomey, Patrick [R-PA]</td>\n",
       "      <td>1594</td>\n",
       "      <td>119</td>\n",
       "      <td>22</td>\n",
       "    </tr>\n",
       "    <tr>\n",
       "      <th>2</th>\n",
       "      <td>BLUNT</td>\n",
       "      <td>R</td>\n",
       "      <td>Sen. Blunt, Roy [R-MO]</td>\n",
       "      <td>1464</td>\n",
       "      <td>249</td>\n",
       "      <td>43</td>\n",
       "    </tr>\n",
       "    <tr>\n",
       "      <th>3</th>\n",
       "      <td>CAPITO</td>\n",
       "      <td>R</td>\n",
       "      <td>Sen. Capito, Shelley Moore [R-WV]</td>\n",
       "      <td>1676</td>\n",
       "      <td>305</td>\n",
       "      <td>25</td>\n",
       "    </tr>\n",
       "    <tr>\n",
       "      <th>4</th>\n",
       "      <td>CORNYN</td>\n",
       "      <td>R</td>\n",
       "      <td>Sen. Cornyn, John [R-TX]</td>\n",
       "      <td>1692</td>\n",
       "      <td>245</td>\n",
       "      <td>80</td>\n",
       "    </tr>\n",
       "    <tr>\n",
       "      <th>...</th>\n",
       "      <td>...</td>\n",
       "      <td>...</td>\n",
       "      <td>...</td>\n",
       "      <td>...</td>\n",
       "      <td>...</td>\n",
       "      <td>...</td>\n",
       "    </tr>\n",
       "    <tr>\n",
       "      <th>100</th>\n",
       "      <td>CRAPO</td>\n",
       "      <td>R</td>\n",
       "      <td>Sen. Crapo, Mike [R-ID]</td>\n",
       "      <td>250</td>\n",
       "      <td>183</td>\n",
       "      <td>30</td>\n",
       "    </tr>\n",
       "    <tr>\n",
       "      <th>101</th>\n",
       "      <td>CORKER</td>\n",
       "      <td>R</td>\n",
       "      <td>Sen. Corker, Bob [R-TN]</td>\n",
       "      <td>1825</td>\n",
       "      <td>69</td>\n",
       "      <td>18</td>\n",
       "    </tr>\n",
       "    <tr>\n",
       "      <th>102</th>\n",
       "      <td>MCCONNELL</td>\n",
       "      <td>R</td>\n",
       "      <td>Sen. McConnell, Mitch [R-KY]</td>\n",
       "      <td>1395</td>\n",
       "      <td>55</td>\n",
       "      <td>44</td>\n",
       "    </tr>\n",
       "    <tr>\n",
       "      <th>103</th>\n",
       "      <td>KYL</td>\n",
       "      <td>R</td>\n",
       "      <td>Sen. Kyl, Jon [R-AZ]</td>\n",
       "      <td>655</td>\n",
       "      <td>7</td>\n",
       "      <td>3</td>\n",
       "    </tr>\n",
       "    <tr>\n",
       "      <th>104</th>\n",
       "      <td>SESSIONS</td>\n",
       "      <td>R</td>\n",
       "      <td>Sen. Sessions, Jeff [R-AL]</td>\n",
       "      <td>1548</td>\n",
       "      <td>1</td>\n",
       "      <td>0</td>\n",
       "    </tr>\n",
       "  </tbody>\n",
       "</table>\n",
       "<p>105 rows × 6 columns</p>\n",
       "</div>"
      ],
      "text/plain": [
       "     Last Name Party                          Full Name    ID  \\\n",
       "0      SANDERS     I       Sen. Sanders, Bernard [I-VT]  1010   \n",
       "1       TOOMEY     R        Sen. Toomey, Patrick [R-PA]  1594   \n",
       "2        BLUNT     R             Sen. Blunt, Roy [R-MO]  1464   \n",
       "3       CAPITO     R  Sen. Capito, Shelley Moore [R-WV]  1676   \n",
       "4       CORNYN     R           Sen. Cornyn, John [R-TX]  1692   \n",
       "..         ...   ...                                ...   ...   \n",
       "100      CRAPO     R            Sen. Crapo, Mike [R-ID]   250   \n",
       "101     CORKER     R            Sen. Corker, Bob [R-TN]  1825   \n",
       "102  MCCONNELL     R       Sen. McConnell, Mitch [R-KY]  1395   \n",
       "103        KYL     R               Sen. Kyl, Jon [R-AZ]   655   \n",
       "104   SESSIONS     R         Sen. Sessions, Jeff [R-AL]  1548   \n",
       "\n",
       "     Number of Bills Cosponsored  Number of Bills Sponsered  \n",
       "0                            306                         30  \n",
       "1                            119                         22  \n",
       "2                            249                         43  \n",
       "3                            305                         25  \n",
       "4                            245                         80  \n",
       "..                           ...                        ...  \n",
       "100                          183                         30  \n",
       "101                           69                         18  \n",
       "102                           55                         44  \n",
       "103                            7                          3  \n",
       "104                            1                          0  \n",
       "\n",
       "[105 rows x 6 columns]"
      ]
     },
     "execution_count": 32,
     "metadata": {},
     "output_type": "execute_result"
    }
   ],
   "source": [
    "#make helpful data frame from dict that can be joined \n",
    "#congressperson info\n",
    "data1= {}\n",
    "for key in Senate_Bill_Dict: \n",
    "    sponser_id= Senate_Bill_Dict[str(key)]['sponser']['ID']   \n",
    "    if sponser_id not in data1.keys(): \n",
    "        data1[int(sponser_id)]= [Senate_Bill_Dict[str(key)]['sponser']['LAST NAME'].upper(), Senate_Bill_Dict[str(key)]['sponser']['PARTY'], Senate_Bill_Dict[str(key)]['sponser']['FULL NAME'], sponser_id]\n",
    "    num_cospo= len(Senate_Bill_Dict[str(key)]['cosponsers'])\n",
    "    for i in range(0,num_cospo): \n",
    "        cospo_id= Senate_Bill_Dict[str(key)]['cosponsers'][i][\"ID\"]\n",
    "        if cospo_id not in data1.keys():\n",
    "            data1[int(cospo_id)]= [Senate_Bill_Dict[str(key)]['cosponsers'][i]['LAST NAME'].upper(), Senate_Bill_Dict[str(key)]['cosponsers'][i]['PARTY'],Senate_Bill_Dict[str(key)]['cosponsers'][i]['FULL NAME'], cospo_id]\n",
    "\n",
    "datf= pd.DataFrame.from_dict(data1, orient='index')\n",
    "datf.columns= ['Last Name', 'Party', 'Full Name', 'ID']\n",
    "datf[\"ID\"]= pd.to_numeric(datf[\"ID\"])\n",
    "datf.merge(df_S, left_on='ID', right_on='ID') \n",
    "\n"
   ]
  },
  {
   "cell_type": "code",
   "execution_count": 34,
   "metadata": {},
   "outputs": [],
   "source": [
    "datf.to_csv(\"leginfo_115S.csv\") #save"
   ]
  },
  {
   "cell_type": "code",
   "execution_count": null,
   "metadata": {},
   "outputs": [],
   "source": []
  },
  {
   "cell_type": "code",
   "execution_count": null,
   "metadata": {},
   "outputs": [],
   "source": []
  },
  {
   "cell_type": "code",
   "execution_count": null,
   "metadata": {},
   "outputs": [],
   "source": []
  },
  {
   "cell_type": "code",
   "execution_count": null,
   "metadata": {},
   "outputs": [],
   "source": []
  },
  {
   "cell_type": "code",
   "execution_count": null,
   "metadata": {},
   "outputs": [],
   "source": []
  },
  {
   "cell_type": "code",
   "execution_count": 140,
   "metadata": {},
   "outputs": [],
   "source": [
    "#df_2.to_excel(\"billinfo_tojoin.xlsx\") #save"
   ]
  },
  {
   "cell_type": "code",
   "execution_count": null,
   "metadata": {},
   "outputs": [],
   "source": [
    "#TESTING ON ONE BILL \n",
    "#Bill_Dict={} \n",
    "#id_nums = [] \n",
    "#bill_nums = []\n",
    "\n",
    "#billpath= \"/Users/caranix/OneDrive - The Ohio State University/Social Influence/Data/Congress/116/House/BILLSTATUS-116-hres-JSON/BILLSTATUS-116hres765.json\"\n",
    "#with open(billpath, 'r') as read_file:\n",
    " #   bill_of_interest = json.load(read_file)\n",
    " ##   bill_id = bill_of_interest['billStatus']['bill']['billNumber']\n",
    " #   bill_nums.append(bill_id) #also store bill ids \n",
    "  #  Bill_Dict[bill_id +\"HRES\"]= get_dict_for_HRESbill(bill_of_interest,id_nums)"
   ]
  },
  {
   "cell_type": "code",
   "execution_count": null,
   "metadata": {},
   "outputs": [],
   "source": [
    "#junk code \n",
    "#columns= [\"Last Name\", \"Party\"]\n",
    "#df_1 = pd.DataFrame(index=u_id_nums, columns= columns)\n",
    "#df_1 = df_1.fillna(0)\n",
    "\n",
    "#for key in Bill_Dict: \n",
    " #   sponser_id= Bill_Dict[str(key)]['sponser']['ID']   \n",
    " #   df_1.loc[int(sponser_id)][\"Last Name\"] = Bill_Dict[str(key)]['sponser']['LAST NAME']\n",
    " #   df_1.loc[int(sponser_id)][\"Party\"] = Bill_Dict[str(key)]['sponser']['PARTY']\n",
    " #   num_cospo= len(Bill_Dict[str(key)]['cosponsers'])\n",
    "  #  for i in range(0,num_cospo): \n",
    "  #      cospo_id= Bill_Dict[str(key)]['cosponsers'][i][\"ID\"]\n",
    "  #      df_1.loc[int(cospo_id)][\"Last Name\"] = Bill_Dict[str(key)]['cosponsers'][i]['LAST NAME']\n",
    "  #      df_1.loc[int(cospo_id)][\"Party\"] = Bill_Dict[str(key)]['cosponsers'][i]['PARTY']"
   ]
  }
 ],
 "metadata": {
  "kernelspec": {
   "display_name": "Python 3",
   "language": "python",
   "name": "python3"
  },
  "language_info": {
   "codemirror_mode": {
    "name": "ipython",
    "version": 3
   },
   "file_extension": ".py",
   "mimetype": "text/x-python",
   "name": "python",
   "nbconvert_exporter": "python",
   "pygments_lexer": "ipython3",
   "version": "3.7.9"
  }
 },
 "nbformat": 4,
 "nbformat_minor": 4
}
